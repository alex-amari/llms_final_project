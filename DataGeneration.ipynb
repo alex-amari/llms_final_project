{
  "nbformat": 4,
  "nbformat_minor": 0,
  "metadata": {
    "colab": {
      "provenance": [],
      "gpuType": "A100"
    },
    "kernelspec": {
      "name": "python3",
      "display_name": "Python 3"
    },
    "language_info": {
      "name": "python"
    },
    "accelerator": "GPU"
  },
  "cells": [
    {
      "cell_type": "code",
      "execution_count": null,
      "metadata": {
        "id": "hrnKDce-usvD"
      },
      "outputs": [],
      "source": [
        "#imports\n",
        "from typing import List, Dict, Optional\n",
        "import openai\n",
        "import os\n",
        "import json\n",
        "import pandas as pd\n",
        "from tqdm import tqdm\n",
        "import numpy as np\n",
        "import matplotlib.pyplot as plt\n",
        "import cv2\n",
        "import random\n",
        "import textwrap as tr\n",
        "import time\n",
        "import ast\n",
        "from IPython.display import display, Image, HTML\n",
        "from datetime import datetime, timedelta\n",
        "\n",
        "pd.set_option(\"display.max_colwidth\", None)"
      ]
    },
    {
      "cell_type": "code",
      "source": [
        "#mount drive\n",
        "from google.colab import drive\n",
        "drive.mount('/content/drive')"
      ],
      "metadata": {
        "colab": {
          "base_uri": "https://localhost:8080/"
        },
        "id": "FmKFwL6CyWUZ",
        "outputId": "eb09a02d-cf7f-4bb3-db21-83cad44e7491"
      },
      "execution_count": null,
      "outputs": [
        {
          "output_type": "stream",
          "name": "stdout",
          "text": [
            "Mounted at /content/drive\n"
          ]
        }
      ]
    },
    {
      "cell_type": "code",
      "source": [
        "os.chdir('/content/drive/MyDrive/llms_final_project')\n",
        "#os.listdir()"
      ],
      "metadata": {
        "colab": {
          "base_uri": "https://localhost:8080/"
        },
        "id": "MfggAPe7zBTc",
        "outputId": "90fab083-30a6-43e2-cc66-6d91a261b9ec"
      },
      "execution_count": null,
      "outputs": [
        {
          "output_type": "execute_result",
          "data": {
            "text/plain": [
              "['IMDB Dataset.csv',\n",
              " 'filtered_reviews.csv',\n",
              " 'interim_results_gpt-4o-mini_0.csv',\n",
              " 'interim_results_gpt-3.5-turbo-1106_0.csv',\n",
              " 'final_results_claude-3-5-sonnet-20241022_0_to_1001.csv',\n",
              " 'claude_missing_reviews.csv',\n",
              " 'claude_complete_results.csv',\n",
              " 'final_results_unholy_0_to_5.csv',\n",
              " '=4.32.0',\n",
              " 'final_results_nsfw_0_to_1.csv',\n",
              " 'final_results_nsfw_1_to_4.csv',\n",
              " 'final_results_nsfw_5_to_6.csv',\n",
              " 'interim_results_nsfw_0_to_99.csv',\n",
              " 'interim_results_nsfw_0_to_199.csv',\n",
              " 'interim_results_nsfw_0_to_299.csv',\n",
              " 'interim_results_nsfw_0_to_399.csv',\n",
              " 'interim_results_nsfw_0_to_499.csv',\n",
              " 'final_results_nsfw_0_to_5.csv',\n",
              " 'final_results_nsfw_0_to_10.csv',\n",
              " 'IMDB Dataset.gsheet',\n",
              " 'final_results_claude-3-5-sonnet-20241022_0_to_1001.gsheet',\n",
              " 'master1000.csv']"
            ]
          },
          "metadata": {},
          "execution_count": 3
        }
      ]
    },
    {
      "cell_type": "code",
      "source": [
        "df = pd.read_csv(\"IMDB Dataset.csv\")\n",
        "df.head()"
      ],
      "metadata": {
        "colab": {
          "base_uri": "https://localhost:8080/",
          "height": 518
        },
        "id": "1GkbdihIyVC0",
        "outputId": "2f7bc162-4f97-4cfd-f980-4cfb69f3e150"
      },
      "execution_count": null,
      "outputs": [
        {
          "output_type": "execute_result",
          "data": {
            "text/plain": [
              "                                                                                                                                                                                                                                                                                                                                                                                                                                                                                                                                                                                                                                                                                                                                                                                                                                                                                                                                                                                                                                                                                                                                                                                                                                                                                                                                                                                                                                                                                                                                                                                                                                                                                                                                                                                                                              review  \\\n",
              "0  One of the other reviewers has mentioned that after watching just 1 Oz episode you'll be hooked. They are right, as this is exactly what happened with me.<br /><br />The first thing that struck me about Oz was its brutality and unflinching scenes of violence, which set in right from the word GO. Trust me, this is not a show for the faint hearted or timid. This show pulls no punches with regards to drugs, sex or violence. Its is hardcore, in the classic use of the word.<br /><br />It is called OZ as that is the nickname given to the Oswald Maximum Security State Penitentary. It focuses mainly on Emerald City, an experimental section of the prison where all the cells have glass fronts and face inwards, so privacy is not high on the agenda. Em City is home to many..Aryans, Muslims, gangstas, Latinos, Christians, Italians, Irish and more....so scuffles, death stares, dodgy dealings and shady agreements are never far away.<br /><br />I would say the main appeal of the show is due to the fact that it goes where other shows wouldn't dare. Forget pretty pictures painted for mainstream audiences, forget charm, forget romance...OZ doesn't mess around. The first episode I ever saw struck me as so nasty it was surreal, I couldn't say I was ready for it, but as I watched more, I developed a taste for Oz, and got accustomed to the high levels of graphic violence. Not just violence, but injustice (crooked guards who'll be sold out for a nickel, inmates who'll kill on order and get away with it, well mannered, middle class inmates being turned into prison bitches due to their lack of street skills or prison experience) Watching Oz, you may become comfortable with what is uncomfortable viewing....thats if you can get in touch with your darker side.   \n",
              "1                                                                                                                                                                                                                                                                                                                                                                                                                                                                                                                                                                                                                                                                                                                                                                                             A wonderful little production. <br /><br />The filming technique is very unassuming- very old-time-BBC fashion and gives a comforting, and sometimes discomforting, sense of realism to the entire piece. <br /><br />The actors are extremely well chosen- Michael Sheen not only \"has got all the polari\" but he has all the voices down pat too! You can truly see the seamless editing guided by the references to Williams' diary entries, not only is it well worth the watching but it is a terrificly written and performed piece. A masterful production about one of the great master's of comedy and his life. <br /><br />The realism really comes home with the little things: the fantasy of the guard which, rather than use the traditional 'dream' techniques remains solid then disappears. It plays on our knowledge and our senses, particularly with the scenes concerning Orton and Halliwell and the sets (particularly of their flat with Halliwell's murals decorating every surface) are terribly well done.   \n",
              "2                                                                                                                                                                                                                                                                                                                                                                                                                                                                                                                                                                                                                                                                                                                                                                                                                                                                     I thought this was a wonderful way to spend time on a too hot summer weekend, sitting in the air conditioned theater and watching a light-hearted comedy. The plot is simplistic, but the dialogue is witty and the characters are likable (even the well bread suspected serial killer). While some may be disappointed when they realize this is not Match Point 2: Risk Addiction, I thought it was proof that Woody Allen is still fully in control of the style many of us have grown to love.<br /><br />This was the most I'd laughed at one of Woody's comedies in years (dare I say a decade?). While I've never been impressed with Scarlet Johanson, in this she managed to tone down her \"sexy\" image and jumped right into a average, but spirited young woman.<br /><br />This may not be the crown jewel of his career, but it was wittier than \"Devil Wears Prada\" and more interesting than \"Superman\" a great comedy to go see with friends.   \n",
              "3                                                                                                                                                                                                                                                                                                                                                                                                                                                                                                                                                                                                                                                                                                                                                                                                                                                                                                                                                                                                                                                       Basically there's a family where a little boy (Jake) thinks there's a zombie in his closet & his parents are fighting all the time.<br /><br />This movie is slower than a soap opera... and suddenly, Jake decides to become Rambo and kill the zombie.<br /><br />OK, first of all when you're going to make a film you must Decide if its a thriller or a drama! As a drama the movie is watchable. Parents are divorcing & arguing like in real life. And then we have Jake with his closet which totally ruins all the film! I expected to see a BOOGEYMAN similar movie, and instead i watched a drama with some meaningless thriller spots.<br /><br />3 out of 10 just for the well playing parents & descent dialogs. As for the shots with Jake: just ignore them.   \n",
              "4                                                                                                                                                                                                                                                                                                                                                                                                                                                              Petter Mattei's \"Love in the Time of Money\" is a visually stunning film to watch. Mr. Mattei offers us a vivid portrait about human relations. This is a movie that seems to be telling us what money, power and success do to people in the different situations we encounter. <br /><br />This being a variation on the Arthur Schnitzler's play about the same theme, the director transfers the action to the present time New York where all these different characters meet and connect. Each one is connected in one way, or another to the next person, but no one seems to know the previous point of contact. Stylishly, the film has a sophisticated luxurious look. We are taken to see how these people live and the world they live in their own habitat.<br /><br />The only thing one gets out of all these souls in the picture is the different stages of loneliness each one inhabits. A big city is not exactly the best place in which human relations find sincere fulfillment, as one discerns is the case with most of the people we encounter.<br /><br />The acting is good under Mr. Mattei's direction. Steve Buscemi, Rosario Dawson, Carol Kane, Michael Imperioli, Adrian Grenier, and the rest of the talented cast, make these characters come alive.<br /><br />We wish Mr. Mattei good luck and await anxiously for his next work.   \n",
              "\n",
              "  sentiment  \n",
              "0  positive  \n",
              "1  positive  \n",
              "2  positive  \n",
              "3  negative  \n",
              "4  positive  "
            ],
            "text/html": [
              "\n",
              "  <div id=\"df-efe59848-8af8-45e8-b96b-0684463caf60\" class=\"colab-df-container\">\n",
              "    <div>\n",
              "<style scoped>\n",
              "    .dataframe tbody tr th:only-of-type {\n",
              "        vertical-align: middle;\n",
              "    }\n",
              "\n",
              "    .dataframe tbody tr th {\n",
              "        vertical-align: top;\n",
              "    }\n",
              "\n",
              "    .dataframe thead th {\n",
              "        text-align: right;\n",
              "    }\n",
              "</style>\n",
              "<table border=\"1\" class=\"dataframe\">\n",
              "  <thead>\n",
              "    <tr style=\"text-align: right;\">\n",
              "      <th></th>\n",
              "      <th>review</th>\n",
              "      <th>sentiment</th>\n",
              "    </tr>\n",
              "  </thead>\n",
              "  <tbody>\n",
              "    <tr>\n",
              "      <th>0</th>\n",
              "      <td>One of the other reviewers has mentioned that after watching just 1 Oz episode you'll be hooked. They are right, as this is exactly what happened with me.&lt;br /&gt;&lt;br /&gt;The first thing that struck me about Oz was its brutality and unflinching scenes of violence, which set in right from the word GO. Trust me, this is not a show for the faint hearted or timid. This show pulls no punches with regards to drugs, sex or violence. Its is hardcore, in the classic use of the word.&lt;br /&gt;&lt;br /&gt;It is called OZ as that is the nickname given to the Oswald Maximum Security State Penitentary. It focuses mainly on Emerald City, an experimental section of the prison where all the cells have glass fronts and face inwards, so privacy is not high on the agenda. Em City is home to many..Aryans, Muslims, gangstas, Latinos, Christians, Italians, Irish and more....so scuffles, death stares, dodgy dealings and shady agreements are never far away.&lt;br /&gt;&lt;br /&gt;I would say the main appeal of the show is due to the fact that it goes where other shows wouldn't dare. Forget pretty pictures painted for mainstream audiences, forget charm, forget romance...OZ doesn't mess around. The first episode I ever saw struck me as so nasty it was surreal, I couldn't say I was ready for it, but as I watched more, I developed a taste for Oz, and got accustomed to the high levels of graphic violence. Not just violence, but injustice (crooked guards who'll be sold out for a nickel, inmates who'll kill on order and get away with it, well mannered, middle class inmates being turned into prison bitches due to their lack of street skills or prison experience) Watching Oz, you may become comfortable with what is uncomfortable viewing....thats if you can get in touch with your darker side.</td>\n",
              "      <td>positive</td>\n",
              "    </tr>\n",
              "    <tr>\n",
              "      <th>1</th>\n",
              "      <td>A wonderful little production. &lt;br /&gt;&lt;br /&gt;The filming technique is very unassuming- very old-time-BBC fashion and gives a comforting, and sometimes discomforting, sense of realism to the entire piece. &lt;br /&gt;&lt;br /&gt;The actors are extremely well chosen- Michael Sheen not only \"has got all the polari\" but he has all the voices down pat too! You can truly see the seamless editing guided by the references to Williams' diary entries, not only is it well worth the watching but it is a terrificly written and performed piece. A masterful production about one of the great master's of comedy and his life. &lt;br /&gt;&lt;br /&gt;The realism really comes home with the little things: the fantasy of the guard which, rather than use the traditional 'dream' techniques remains solid then disappears. It plays on our knowledge and our senses, particularly with the scenes concerning Orton and Halliwell and the sets (particularly of their flat with Halliwell's murals decorating every surface) are terribly well done.</td>\n",
              "      <td>positive</td>\n",
              "    </tr>\n",
              "    <tr>\n",
              "      <th>2</th>\n",
              "      <td>I thought this was a wonderful way to spend time on a too hot summer weekend, sitting in the air conditioned theater and watching a light-hearted comedy. The plot is simplistic, but the dialogue is witty and the characters are likable (even the well bread suspected serial killer). While some may be disappointed when they realize this is not Match Point 2: Risk Addiction, I thought it was proof that Woody Allen is still fully in control of the style many of us have grown to love.&lt;br /&gt;&lt;br /&gt;This was the most I'd laughed at one of Woody's comedies in years (dare I say a decade?). While I've never been impressed with Scarlet Johanson, in this she managed to tone down her \"sexy\" image and jumped right into a average, but spirited young woman.&lt;br /&gt;&lt;br /&gt;This may not be the crown jewel of his career, but it was wittier than \"Devil Wears Prada\" and more interesting than \"Superman\" a great comedy to go see with friends.</td>\n",
              "      <td>positive</td>\n",
              "    </tr>\n",
              "    <tr>\n",
              "      <th>3</th>\n",
              "      <td>Basically there's a family where a little boy (Jake) thinks there's a zombie in his closet &amp; his parents are fighting all the time.&lt;br /&gt;&lt;br /&gt;This movie is slower than a soap opera... and suddenly, Jake decides to become Rambo and kill the zombie.&lt;br /&gt;&lt;br /&gt;OK, first of all when you're going to make a film you must Decide if its a thriller or a drama! As a drama the movie is watchable. Parents are divorcing &amp; arguing like in real life. And then we have Jake with his closet which totally ruins all the film! I expected to see a BOOGEYMAN similar movie, and instead i watched a drama with some meaningless thriller spots.&lt;br /&gt;&lt;br /&gt;3 out of 10 just for the well playing parents &amp; descent dialogs. As for the shots with Jake: just ignore them.</td>\n",
              "      <td>negative</td>\n",
              "    </tr>\n",
              "    <tr>\n",
              "      <th>4</th>\n",
              "      <td>Petter Mattei's \"Love in the Time of Money\" is a visually stunning film to watch. Mr. Mattei offers us a vivid portrait about human relations. This is a movie that seems to be telling us what money, power and success do to people in the different situations we encounter. &lt;br /&gt;&lt;br /&gt;This being a variation on the Arthur Schnitzler's play about the same theme, the director transfers the action to the present time New York where all these different characters meet and connect. Each one is connected in one way, or another to the next person, but no one seems to know the previous point of contact. Stylishly, the film has a sophisticated luxurious look. We are taken to see how these people live and the world they live in their own habitat.&lt;br /&gt;&lt;br /&gt;The only thing one gets out of all these souls in the picture is the different stages of loneliness each one inhabits. A big city is not exactly the best place in which human relations find sincere fulfillment, as one discerns is the case with most of the people we encounter.&lt;br /&gt;&lt;br /&gt;The acting is good under Mr. Mattei's direction. Steve Buscemi, Rosario Dawson, Carol Kane, Michael Imperioli, Adrian Grenier, and the rest of the talented cast, make these characters come alive.&lt;br /&gt;&lt;br /&gt;We wish Mr. Mattei good luck and await anxiously for his next work.</td>\n",
              "      <td>positive</td>\n",
              "    </tr>\n",
              "  </tbody>\n",
              "</table>\n",
              "</div>\n",
              "    <div class=\"colab-df-buttons\">\n",
              "\n",
              "  <div class=\"colab-df-container\">\n",
              "    <button class=\"colab-df-convert\" onclick=\"convertToInteractive('df-efe59848-8af8-45e8-b96b-0684463caf60')\"\n",
              "            title=\"Convert this dataframe to an interactive table.\"\n",
              "            style=\"display:none;\">\n",
              "\n",
              "  <svg xmlns=\"http://www.w3.org/2000/svg\" height=\"24px\" viewBox=\"0 -960 960 960\">\n",
              "    <path d=\"M120-120v-720h720v720H120Zm60-500h600v-160H180v160Zm220 220h160v-160H400v160Zm0 220h160v-160H400v160ZM180-400h160v-160H180v160Zm440 0h160v-160H620v160ZM180-180h160v-160H180v160Zm440 0h160v-160H620v160Z\"/>\n",
              "  </svg>\n",
              "    </button>\n",
              "\n",
              "  <style>\n",
              "    .colab-df-container {\n",
              "      display:flex;\n",
              "      gap: 12px;\n",
              "    }\n",
              "\n",
              "    .colab-df-convert {\n",
              "      background-color: #E8F0FE;\n",
              "      border: none;\n",
              "      border-radius: 50%;\n",
              "      cursor: pointer;\n",
              "      display: none;\n",
              "      fill: #1967D2;\n",
              "      height: 32px;\n",
              "      padding: 0 0 0 0;\n",
              "      width: 32px;\n",
              "    }\n",
              "\n",
              "    .colab-df-convert:hover {\n",
              "      background-color: #E2EBFA;\n",
              "      box-shadow: 0px 1px 2px rgba(60, 64, 67, 0.3), 0px 1px 3px 1px rgba(60, 64, 67, 0.15);\n",
              "      fill: #174EA6;\n",
              "    }\n",
              "\n",
              "    .colab-df-buttons div {\n",
              "      margin-bottom: 4px;\n",
              "    }\n",
              "\n",
              "    [theme=dark] .colab-df-convert {\n",
              "      background-color: #3B4455;\n",
              "      fill: #D2E3FC;\n",
              "    }\n",
              "\n",
              "    [theme=dark] .colab-df-convert:hover {\n",
              "      background-color: #434B5C;\n",
              "      box-shadow: 0px 1px 3px 1px rgba(0, 0, 0, 0.15);\n",
              "      filter: drop-shadow(0px 1px 2px rgba(0, 0, 0, 0.3));\n",
              "      fill: #FFFFFF;\n",
              "    }\n",
              "  </style>\n",
              "\n",
              "    <script>\n",
              "      const buttonEl =\n",
              "        document.querySelector('#df-efe59848-8af8-45e8-b96b-0684463caf60 button.colab-df-convert');\n",
              "      buttonEl.style.display =\n",
              "        google.colab.kernel.accessAllowed ? 'block' : 'none';\n",
              "\n",
              "      async function convertToInteractive(key) {\n",
              "        const element = document.querySelector('#df-efe59848-8af8-45e8-b96b-0684463caf60');\n",
              "        const dataTable =\n",
              "          await google.colab.kernel.invokeFunction('convertToInteractive',\n",
              "                                                    [key], {});\n",
              "        if (!dataTable) return;\n",
              "\n",
              "        const docLinkHtml = 'Like what you see? Visit the ' +\n",
              "          '<a target=\"_blank\" href=https://colab.research.google.com/notebooks/data_table.ipynb>data table notebook</a>'\n",
              "          + ' to learn more about interactive tables.';\n",
              "        element.innerHTML = '';\n",
              "        dataTable['output_type'] = 'display_data';\n",
              "        await google.colab.output.renderOutput(dataTable, element);\n",
              "        const docLink = document.createElement('div');\n",
              "        docLink.innerHTML = docLinkHtml;\n",
              "        element.appendChild(docLink);\n",
              "      }\n",
              "    </script>\n",
              "  </div>\n",
              "\n",
              "\n",
              "<div id=\"df-3bf21419-c99f-4e5c-91ce-a6aabe7221a4\">\n",
              "  <button class=\"colab-df-quickchart\" onclick=\"quickchart('df-3bf21419-c99f-4e5c-91ce-a6aabe7221a4')\"\n",
              "            title=\"Suggest charts\"\n",
              "            style=\"display:none;\">\n",
              "\n",
              "<svg xmlns=\"http://www.w3.org/2000/svg\" height=\"24px\"viewBox=\"0 0 24 24\"\n",
              "     width=\"24px\">\n",
              "    <g>\n",
              "        <path d=\"M19 3H5c-1.1 0-2 .9-2 2v14c0 1.1.9 2 2 2h14c1.1 0 2-.9 2-2V5c0-1.1-.9-2-2-2zM9 17H7v-7h2v7zm4 0h-2V7h2v10zm4 0h-2v-4h2v4z\"/>\n",
              "    </g>\n",
              "</svg>\n",
              "  </button>\n",
              "\n",
              "<style>\n",
              "  .colab-df-quickchart {\n",
              "      --bg-color: #E8F0FE;\n",
              "      --fill-color: #1967D2;\n",
              "      --hover-bg-color: #E2EBFA;\n",
              "      --hover-fill-color: #174EA6;\n",
              "      --disabled-fill-color: #AAA;\n",
              "      --disabled-bg-color: #DDD;\n",
              "  }\n",
              "\n",
              "  [theme=dark] .colab-df-quickchart {\n",
              "      --bg-color: #3B4455;\n",
              "      --fill-color: #D2E3FC;\n",
              "      --hover-bg-color: #434B5C;\n",
              "      --hover-fill-color: #FFFFFF;\n",
              "      --disabled-bg-color: #3B4455;\n",
              "      --disabled-fill-color: #666;\n",
              "  }\n",
              "\n",
              "  .colab-df-quickchart {\n",
              "    background-color: var(--bg-color);\n",
              "    border: none;\n",
              "    border-radius: 50%;\n",
              "    cursor: pointer;\n",
              "    display: none;\n",
              "    fill: var(--fill-color);\n",
              "    height: 32px;\n",
              "    padding: 0;\n",
              "    width: 32px;\n",
              "  }\n",
              "\n",
              "  .colab-df-quickchart:hover {\n",
              "    background-color: var(--hover-bg-color);\n",
              "    box-shadow: 0 1px 2px rgba(60, 64, 67, 0.3), 0 1px 3px 1px rgba(60, 64, 67, 0.15);\n",
              "    fill: var(--button-hover-fill-color);\n",
              "  }\n",
              "\n",
              "  .colab-df-quickchart-complete:disabled,\n",
              "  .colab-df-quickchart-complete:disabled:hover {\n",
              "    background-color: var(--disabled-bg-color);\n",
              "    fill: var(--disabled-fill-color);\n",
              "    box-shadow: none;\n",
              "  }\n",
              "\n",
              "  .colab-df-spinner {\n",
              "    border: 2px solid var(--fill-color);\n",
              "    border-color: transparent;\n",
              "    border-bottom-color: var(--fill-color);\n",
              "    animation:\n",
              "      spin 1s steps(1) infinite;\n",
              "  }\n",
              "\n",
              "  @keyframes spin {\n",
              "    0% {\n",
              "      border-color: transparent;\n",
              "      border-bottom-color: var(--fill-color);\n",
              "      border-left-color: var(--fill-color);\n",
              "    }\n",
              "    20% {\n",
              "      border-color: transparent;\n",
              "      border-left-color: var(--fill-color);\n",
              "      border-top-color: var(--fill-color);\n",
              "    }\n",
              "    30% {\n",
              "      border-color: transparent;\n",
              "      border-left-color: var(--fill-color);\n",
              "      border-top-color: var(--fill-color);\n",
              "      border-right-color: var(--fill-color);\n",
              "    }\n",
              "    40% {\n",
              "      border-color: transparent;\n",
              "      border-right-color: var(--fill-color);\n",
              "      border-top-color: var(--fill-color);\n",
              "    }\n",
              "    60% {\n",
              "      border-color: transparent;\n",
              "      border-right-color: var(--fill-color);\n",
              "    }\n",
              "    80% {\n",
              "      border-color: transparent;\n",
              "      border-right-color: var(--fill-color);\n",
              "      border-bottom-color: var(--fill-color);\n",
              "    }\n",
              "    90% {\n",
              "      border-color: transparent;\n",
              "      border-bottom-color: var(--fill-color);\n",
              "    }\n",
              "  }\n",
              "</style>\n",
              "\n",
              "  <script>\n",
              "    async function quickchart(key) {\n",
              "      const quickchartButtonEl =\n",
              "        document.querySelector('#' + key + ' button');\n",
              "      quickchartButtonEl.disabled = true;  // To prevent multiple clicks.\n",
              "      quickchartButtonEl.classList.add('colab-df-spinner');\n",
              "      try {\n",
              "        const charts = await google.colab.kernel.invokeFunction(\n",
              "            'suggestCharts', [key], {});\n",
              "      } catch (error) {\n",
              "        console.error('Error during call to suggestCharts:', error);\n",
              "      }\n",
              "      quickchartButtonEl.classList.remove('colab-df-spinner');\n",
              "      quickchartButtonEl.classList.add('colab-df-quickchart-complete');\n",
              "    }\n",
              "    (() => {\n",
              "      let quickchartButtonEl =\n",
              "        document.querySelector('#df-3bf21419-c99f-4e5c-91ce-a6aabe7221a4 button');\n",
              "      quickchartButtonEl.style.display =\n",
              "        google.colab.kernel.accessAllowed ? 'block' : 'none';\n",
              "    })();\n",
              "  </script>\n",
              "</div>\n",
              "\n",
              "    </div>\n",
              "  </div>\n"
            ],
            "application/vnd.google.colaboratory.intrinsic+json": {
              "type": "dataframe",
              "variable_name": "df",
              "summary": "{\n  \"name\": \"df\",\n  \"rows\": 50000,\n  \"fields\": [\n    {\n      \"column\": \"review\",\n      \"properties\": {\n        \"dtype\": \"string\",\n        \"num_unique_values\": 49582,\n        \"samples\": [\n          \"\\\"Soul Plane\\\" is a horrible attempt at comedy that only should appeal people with thick skulls, bloodshot eyes and furry pawns. <br /><br />The plot is not only incoherent but also non-existent, acting is mostly sub sub-par with a gang of highly moronic and dreadful characters thrown in for bad measure, jokes are often spotted miles ahead and almost never even a bit amusing. This movie lacks any structure and is full of racial stereotypes that must have seemed old even in the fifties, the only thing it really has going for it is some pretty ladies, but really, if you want that you can rent something from the \\\"Adult\\\" section. OK?<br /><br />I can hardly see anything here to recommend since you'll probably have a lot a better and productive time chasing rats with a sledgehammer or inventing waterproof teabags or whatever.<br /><br />2/10\",\n          \"Guest from the Future tells a fascinating story of time travel, friendship, battle of good and evil -- all with a small budget, child actors, and few special effects. Something for Spielberg and Lucas to learn from. ;) A sixth-grader Kolya \\\"Nick\\\" Gerasimov finds a time machine in the basement of a decrepit building and travels 100 years into the future. He discovers a near-perfect, utopian society where robots play guitars and write poetry, everyone is kind to each other and people enjoy everything technology has to offer. Alice is the daughter of a prominent scientist who invented a device called Mielophone that allows to read minds of humans and animals. The device can be put to both good and bad use, depending on whose hands it falls into. When two evil space pirates from Saturn who want to rule the universe attempt to steal Mielophone, it falls into the hands of 20th century school boy Nick. With the pirates hot on his tracks, he travels back to his time, followed by the pirates, and Alice. Chaos, confusion and funny situations follow as the luckless pirates try to blend in with the earthlings. Alice enrolls in the same school Nick goes to and demonstrates superhuman abilities in PE class. The catch is, Alice doesn't know what Nick looks like, while the pirates do. Also, the pirates are able to change their appearance and turn literally into anyone. (Hmm, I wonder if this is where James Cameron got the idea for Terminator...) Who gets to Nick -- and Mielophone -- first? Excellent plot, non-stop adventures, and great soundtrack. I wish Hollywood made kid movies like this one...\",\n          \"\\\"National Treasure\\\" (2004) is a thoroughly misguided hodge-podge of plot entanglements that borrow from nearly every cloak and dagger government conspiracy clich\\u00e9 that has ever been written. The film stars Nicholas Cage as Benjamin Franklin Gates (how precious is that, I ask you?); a seemingly normal fellow who, for no other reason than being of a lineage of like-minded misguided fortune hunters, decides to steal a 'national treasure' that has been hidden by the United States founding fathers. After a bit of subtext and background that plays laughably (unintentionally) like Indiana Jones meets The Patriot, the film degenerates into one misguided whimsy after another \\u0096 attempting to create a 'Stanley Goodspeed' regurgitation of Nicholas Cage and launch the whole convoluted mess forward with a series of high octane, but disconnected misadventures.<br /><br />The relevancy and logic to having George Washington and his motley crew of patriots burying a king's ransom someplace on native soil, and then, going through the meticulous plan of leaving clues scattered throughout U.S. currency art work, is something that director Jon Turteltaub never quite gets around to explaining. Couldn't Washington found better usage for such wealth during the start up of the country? Hence, we are left with a mystery built on top of an enigma that is already on shaky ground by the time Ben appoints himself the new custodian of this untold wealth. Ben's intentions are noble \\u0096 if confusing. He's set on protecting the treasure. For who and when?\\u0085your guess is as good as mine.<br /><br />But there are a few problems with Ben's crusade. First up, his friend, Ian Holmes (Sean Bean) decides that he can't wait for Ben to make up his mind about stealing the Declaration of Independence from the National Archives (oh, yeah \\u0096 brilliant idea!). Presumably, the back of that famous document holds the secret answer to the ultimate fortune. So Ian tries to kill Ben. The assassination attempt is, of course, unsuccessful, if overly melodramatic. It also affords Ben the opportunity to pick up, and pick on, the very sultry curator of the archives, Abigail Chase (Diane Kruger). She thinks Ben is clearly a nut \\u0096 at least at the beginning. But true to action/romance form, Abby's resolve melts quicker than you can say, \\\"is that the Hope Diamond?\\\" The film moves into full X-File-ish mode, as the FBI, mistakenly believing that Ben is behind the theft, retaliate in various benign ways that lead to a multi-layering of action sequences reminiscent of Mission Impossible meets The Fugitive. Honestly, don't those guys ever get 'intelligence' information that is correct? In the final analysis, \\\"National Treasure\\\" isn't great film making, so much as it's a patchwork rehash of tired old bits from other movies, woven together from scraps, the likes of which would make IL' Betsy Ross blush.<br /><br />The Buena Vista DVD delivers a far more generous treatment than this film is deserving of. The anamorphic widescreen picture exhibits a very smooth and finely detailed image with very rich colors, natural flesh tones, solid blacks and clean whites. The stylized image is also free of blemishes and digital enhancements. The audio is 5.1 and delivers a nice sonic boom to your side and rear speakers with intensity and realism. Extras include a host of promotional junket material that is rather deep and over the top in its explanation of how and why this film was made. If only, as an audience, we had had more clarification as to why Ben and co. were chasing after an illusive treasure, this might have been one good flick. Extras conclude with the theatrical trailer, audio commentary and deleted scenes. Not for the faint-hearted \\u0096 just the thick-headed.\"\n        ],\n        \"semantic_type\": \"\",\n        \"description\": \"\"\n      }\n    },\n    {\n      \"column\": \"sentiment\",\n      \"properties\": {\n        \"dtype\": \"category\",\n        \"num_unique_values\": 2,\n        \"samples\": [\n          \"negative\",\n          \"positive\"\n        ],\n        \"semantic_type\": \"\",\n        \"description\": \"\"\n      }\n    }\n  ]\n}"
            }
          },
          "metadata": {},
          "execution_count": 5
        }
      ]
    },
    {
      "cell_type": "code",
      "source": [
        "from google.colab import userdata\n",
        "import os\n",
        "my_openaikey = userdata.get('tauhid')   #Personal OpenAI API Key\n",
        "#my_cohere_key = userdata.get('MAKE THIS RED TEXT MATCH YOUR COHERE SECRET KEY')   #Key for Cohere Embeddings\n",
        "\n",
        "#With these personal keys, you can call the llm model without keys\n",
        "os.environ['OPENAI_API_KEY'] = my_openaikey\n",
        "#os.environ['COHERE_API_KEY'] = my_cohere_key"
      ],
      "metadata": {
        "id": "FuULlwiJzV-s"
      },
      "execution_count": null,
      "outputs": []
    },
    {
      "cell_type": "code",
      "source": [
        "def get_completion(prompt, instructions, client, model=\"gpt-4o\",\n",
        "                   output_type = 'text'):\n",
        "  '''Get a text completion from the OpenAI API'''\n",
        "  completion = client.chat.completions.create(\n",
        "                model=model,\n",
        "                response_format={ \"type\": output_type},\n",
        "                messages=[\n",
        "                  {\"role\": \"system\", \"content\": instructions},\n",
        "                  {\"role\": \"user\", \"content\": prompt}\n",
        "                ]\n",
        "              )\n",
        "  response =completion.choices[0].message.content\n",
        "\n",
        "  return response\n"
      ],
      "metadata": {
        "id": "lg3cQSEF0IjJ"
      },
      "execution_count": null,
      "outputs": []
    },
    {
      "cell_type": "code",
      "source": [
        "df['review'].iloc[0]"
      ],
      "metadata": {
        "colab": {
          "base_uri": "https://localhost:8080/",
          "height": 174
        },
        "id": "T_puf_vx0JlZ",
        "outputId": "03c8f2f3-8f3a-4ce6-aafd-6372cc60c752"
      },
      "execution_count": null,
      "outputs": [
        {
          "output_type": "execute_result",
          "data": {
            "text/plain": [
              "\"One of the other reviewers has mentioned that after watching just 1 Oz episode you'll be hooked. They are right, as this is exactly what happened with me.<br /><br />The first thing that struck me about Oz was its brutality and unflinching scenes of violence, which set in right from the word GO. Trust me, this is not a show for the faint hearted or timid. This show pulls no punches with regards to drugs, sex or violence. Its is hardcore, in the classic use of the word.<br /><br />It is called OZ as that is the nickname given to the Oswald Maximum Security State Penitentary. It focuses mainly on Emerald City, an experimental section of the prison where all the cells have glass fronts and face inwards, so privacy is not high on the agenda. Em City is home to many..Aryans, Muslims, gangstas, Latinos, Christians, Italians, Irish and more....so scuffles, death stares, dodgy dealings and shady agreements are never far away.<br /><br />I would say the main appeal of the show is due to the fact that it goes where other shows wouldn't dare. Forget pretty pictures painted for mainstream audiences, forget charm, forget romance...OZ doesn't mess around. The first episode I ever saw struck me as so nasty it was surreal, I couldn't say I was ready for it, but as I watched more, I developed a taste for Oz, and got accustomed to the high levels of graphic violence. Not just violence, but injustice (crooked guards who'll be sold out for a nickel, inmates who'll kill on order and get away with it, well mannered, middle class inmates being turned into prison bitches due to their lack of street skills or prison experience) Watching Oz, you may become comfortable with what is uncomfortable viewing....thats if you can get in touch with your darker side.\""
            ],
            "application/vnd.google.colaboratory.intrinsic+json": {
              "type": "string"
            }
          },
          "metadata": {},
          "execution_count": 11
        }
      ]
    },
    {
      "cell_type": "code",
      "source": [
        "instructions = '''You will receive a text excerpt. Please write a new passage of similar length that covers the same key points and maintains a similar style, but using your own words:\n",
        "Write a new version that:\n",
        "1. Maintains similar length\n",
        "2. Covers the same main ideas\n",
        "3. Uses similar tone/style\n",
        "4. Feels natural and coherent\n",
        "Return only your new version'''"
      ],
      "metadata": {
        "id": "QY-DDzCp0P5z"
      },
      "execution_count": null,
      "outputs": []
    },
    {
      "cell_type": "code",
      "source": [
        "test = get_completion(df['review'].iloc[0], instructions, client, model = 'gpt-3.5-turbo-1106')"
      ],
      "metadata": {
        "id": "adG2Rvxw0tHa"
      },
      "execution_count": null,
      "outputs": []
    },
    {
      "cell_type": "code",
      "source": [
        "print(test)"
      ],
      "metadata": {
        "colab": {
          "base_uri": "https://localhost:8080/"
        },
        "id": "TYxgLysL04Kh",
        "outputId": "c37d44ae-1de1-43b9-bfd8-ad98711bdc8f"
      },
      "execution_count": null,
      "outputs": [
        {
          "output_type": "stream",
          "name": "stdout",
          "text": [
            "After just one episode of Oz, I was immediately drawn in, as the intensity and unapologetic portrayal of violence captivated me from the start. This is not a show for those with a faint heart. It delves into the harsh realities of drugs, sex, and brutality without holding back.\n",
            "\n",
            "Set in the Oswald Maximum Security State Penitentiary, or OZ, the series primarily focuses on Emerald City, an experimental unit where privacy is minimal and tensions run high among a diverse array of inmates – Aryans, Muslims, gangstas, Latinos, Christians, Italians, and more. The constant threat of conflict and illicit activities creates a volatile environment.\n",
            "\n",
            "What sets Oz apart is its willingness to confront the darkest aspects of human nature without pretense or sugar-coating. There's no room for pretty illusions or romanticized portrayals here. While the explicit violence initially caught me off guard, I soon found myself acclimating to its unflinching depiction. The show doesn’t shy away from the harsh reality of life within the prison – the corruption of guards, the brutality of inmates, and the vulnerability of those unaccustomed to the harsh realities of prison life.\n",
            "\n",
            "Viewing Oz can be a challenging experience, delving into uncomfortable truths and testing your capacity to engage with the darker aspects of human behavior.\n"
          ]
        }
      ]
    },
    {
      "cell_type": "code",
      "source": [],
      "metadata": {
        "id": "JF_cVsV74SGw"
      },
      "execution_count": null,
      "outputs": []
    },
    {
      "cell_type": "markdown",
      "source": [
        "#Text Preprocessing"
      ],
      "metadata": {
        "id": "urWwBzyD4SkH"
      }
    },
    {
      "cell_type": "code",
      "source": [
        "df[\"length\"]=df['review'].apply(lambda x: len(x))"
      ],
      "metadata": {
        "id": "avHDl3JS05dX"
      },
      "execution_count": null,
      "outputs": []
    },
    {
      "cell_type": "code",
      "source": [
        "df[\"length\"].describe()"
      ],
      "metadata": {
        "colab": {
          "base_uri": "https://localhost:8080/",
          "height": 335
        },
        "id": "JWsIYsUJ2Ost",
        "outputId": "79aa34c9-6d5e-487d-f60b-26907d4c0b1e"
      },
      "execution_count": null,
      "outputs": [
        {
          "output_type": "execute_result",
          "data": {
            "text/plain": [
              "count    50000.000000\n",
              "mean      1309.431020\n",
              "std        989.728014\n",
              "min         32.000000\n",
              "25%        699.000000\n",
              "50%        970.000000\n",
              "75%       1590.250000\n",
              "max      13704.000000\n",
              "Name: length, dtype: float64"
            ],
            "text/html": [
              "<div>\n",
              "<style scoped>\n",
              "    .dataframe tbody tr th:only-of-type {\n",
              "        vertical-align: middle;\n",
              "    }\n",
              "\n",
              "    .dataframe tbody tr th {\n",
              "        vertical-align: top;\n",
              "    }\n",
              "\n",
              "    .dataframe thead th {\n",
              "        text-align: right;\n",
              "    }\n",
              "</style>\n",
              "<table border=\"1\" class=\"dataframe\">\n",
              "  <thead>\n",
              "    <tr style=\"text-align: right;\">\n",
              "      <th></th>\n",
              "      <th>length</th>\n",
              "    </tr>\n",
              "  </thead>\n",
              "  <tbody>\n",
              "    <tr>\n",
              "      <th>count</th>\n",
              "      <td>50000.000000</td>\n",
              "    </tr>\n",
              "    <tr>\n",
              "      <th>mean</th>\n",
              "      <td>1309.431020</td>\n",
              "    </tr>\n",
              "    <tr>\n",
              "      <th>std</th>\n",
              "      <td>989.728014</td>\n",
              "    </tr>\n",
              "    <tr>\n",
              "      <th>min</th>\n",
              "      <td>32.000000</td>\n",
              "    </tr>\n",
              "    <tr>\n",
              "      <th>25%</th>\n",
              "      <td>699.000000</td>\n",
              "    </tr>\n",
              "    <tr>\n",
              "      <th>50%</th>\n",
              "      <td>970.000000</td>\n",
              "    </tr>\n",
              "    <tr>\n",
              "      <th>75%</th>\n",
              "      <td>1590.250000</td>\n",
              "    </tr>\n",
              "    <tr>\n",
              "      <th>max</th>\n",
              "      <td>13704.000000</td>\n",
              "    </tr>\n",
              "  </tbody>\n",
              "</table>\n",
              "</div><br><label><b>dtype:</b> float64</label>"
            ]
          },
          "metadata": {},
          "execution_count": 16
        }
      ]
    },
    {
      "cell_type": "markdown",
      "source": [
        "We have a right-skewed distribution with high variance. I'm going to filter this down to 10,000 random reviews within a \"reasonable range\" around the median. Let's go 200 characters in each direction, so 770 to 1170."
      ],
      "metadata": {
        "id": "gGWVD-n74VKR"
      }
    },
    {
      "cell_type": "code",
      "source": [
        "# Define reasonable length bounds\n",
        "min_chars = 770\n",
        "max_chars = 1170\n",
        "\n",
        "# Filter dataset\n",
        "filtered_df = df[\n",
        "    (df['length'] >= min_chars) &\n",
        "    (df['length'] <= max_chars)\n",
        "].copy()\n",
        "\n",
        "# Randomly sample 10,000 reviews\n",
        "final_sample = filtered_df.sample(n=10000, random_state=42)"
      ],
      "metadata": {
        "id": "kxNs5kyK2Q6a"
      },
      "execution_count": null,
      "outputs": []
    },
    {
      "cell_type": "code",
      "source": [
        "final_sample.head()"
      ],
      "metadata": {
        "colab": {
          "base_uri": "https://localhost:8080/",
          "height": 483
        },
        "id": "lrZfoRXr5O8Q",
        "outputId": "e4ad0d96-4797-4927-94b0-69aad60335a4"
      },
      "execution_count": null,
      "outputs": [
        {
          "output_type": "execute_result",
          "data": {
            "text/plain": [
              "                                                                                                                                                                                                                                                                                                                                                                                                                                                                                                                                                                                                                                                                                                                                                                                                                                                                                                                                                                                                                                                                                                   review  \\\n",
              "30237                                                                                                                                                                                                                                                                 Lately they have been trying to hock this film late-night on cable TV commercials. Don't believe the hype. I was one of the unlucky people to see this stinker in theatres. This is, in my opinion, the 3rd Worst Movie of All Time, just behind Mac & Me (#1 Worst), and Jack Frost (#2 Worst), but I must admit, they are all close and all TERRIBLE! Really, nothing of this movie is funny, or disturbing, or anything else it claims to be so don't waste your money. The only thing it is good for is giving to your worst enemy. I'm not lying about that. Someone who you would love to kill or torture would be a prime candidate for this film. It is that awful. If you don't believe me then you deserve to suffer through the misery of watching this, which I doubt you can finish. Two Thumbs Enthusiastically Down.   \n",
              "14977                                                                                                                                                             If the scale went negative I would be happier. Seeing Sushmita Sen was nice, and Nisha Kothari has a bright future but the producer and the director ruined any and all enjoyment in this story. The choice of angles, choice of lighting and well everything distracted from trying to remember what is the story. Oh, if the songs and dances haven't caused you to rip your ears off your head, first. The film could have been made twice at 1.25 hours, and been pretty good, kinda like \"Seven Samurai\" but the director and writer didn't go that direction, even if the \"townsfolk\" finally find their backbone and want to help. This movie fails on so many levels: editing, writing, photography angles, style, lighting, script - name any aspect of this film - it was BAD - probably the food from the caterer was bad too. I have never in 6 years of watching Indian (Bollywood) movies seen something this badly made.   \n",
              "7363                                                                                                                                                                                                                                                                          Rachael Ray appeals to viewers of all ages and backgrounds, beginner cooks or \"seasoned\" veterans. You'll be dazzled with a variegated presentation of delectable yet time-efficient dishes, jazzed up with her unique brand of spunk and candor. Most importantly, this hip chic keeps her audience drawn in by stimulating all five senses. Let me explain. Her program provides enlightenment to your visual sense, auditory sense, and sense of feeling through a rich, luminous ambient backdrop, light-hearted, casual, yet engaging topics, eye-pleasing, appetite wrenching meals, and her hearty smile and laugh, which will simmer down anyone's nerves.(Sense of smell and taste are rewarded when you test out the recipes in your own kitchen and among your own family and friends). Check out her show guys.   \n",
              "43930                                                                                                                                                                                                                         Someone had a great idea: let's have Misty Mundae do her own, R-rated version of Lara Croft - firing two guns not only in skimpy outfits, but topless as well. It WAS indeed a great idea. The problem is that the people who had it couldn't come up with any sort of script or budget to support it. Therefore, we get a \"film\" that barely reaches medium length by replaying many of its parts (often in slow-motion), and was apparently shot entirely inside a garage. The appeal of Misty Mundae is still evident: she is unbelievably cute and has a natural girl-next-door beauty. However her two female co-stars here, with whom she shares a lengthy lesbian scene, are nowhere near her league. If \"Mummy Raider\" was presented as a Youtube video, I'd rate it higher, but as a \"film\" destined for DVD consumption it cannot get more than 1/2 a * out of 4.   \n",
              "3262   This film is the worst excuse for a motion picture I have EVER seen. To begin, I'd like to say the the front cover of this film is by all means misleading, if you think you are about to see a truly scary horror film with a monster clown, you are soooo wrong. In fact the killers face doesn't even slightly resemble the front cover, it's just an image they must have found on Google and thought it looked cool. Speaking of things they found and thought it looked cool, there is a scene in this film where some of the gang are searching for the friend in the old woods, then suddenly the screen chops to a scene where there is a mother deer nurturing it's young in a glisten of sunlight... I mean seriously WTF??? How is this relevant to the dark woods they are wandering through? I bought this film from a man at a market hoping it would be entertaining, if it wasn't horror then at least it would be funny right? WRONG! The next day I GAVE it to my work colleague ridding myself from the plague named S.I.C.K<br /><br />Bottom line is: Don't SEE THIS FILM!!!   \n",
              "\n",
              "      sentiment  length  \n",
              "30237  negative     803  \n",
              "14977  negative     903  \n",
              "7363   positive     795  \n",
              "43930  negative     843  \n",
              "3262   negative    1058  "
            ],
            "text/html": [
              "\n",
              "  <div id=\"df-ed1b7353-8381-425a-9a2f-3edf8aafb90e\" class=\"colab-df-container\">\n",
              "    <div>\n",
              "<style scoped>\n",
              "    .dataframe tbody tr th:only-of-type {\n",
              "        vertical-align: middle;\n",
              "    }\n",
              "\n",
              "    .dataframe tbody tr th {\n",
              "        vertical-align: top;\n",
              "    }\n",
              "\n",
              "    .dataframe thead th {\n",
              "        text-align: right;\n",
              "    }\n",
              "</style>\n",
              "<table border=\"1\" class=\"dataframe\">\n",
              "  <thead>\n",
              "    <tr style=\"text-align: right;\">\n",
              "      <th></th>\n",
              "      <th>review</th>\n",
              "      <th>sentiment</th>\n",
              "      <th>length</th>\n",
              "    </tr>\n",
              "  </thead>\n",
              "  <tbody>\n",
              "    <tr>\n",
              "      <th>30237</th>\n",
              "      <td>Lately they have been trying to hock this film late-night on cable TV commercials. Don't believe the hype. I was one of the unlucky people to see this stinker in theatres. This is, in my opinion, the 3rd Worst Movie of All Time, just behind Mac &amp; Me (#1 Worst), and Jack Frost (#2 Worst), but I must admit, they are all close and all TERRIBLE! Really, nothing of this movie is funny, or disturbing, or anything else it claims to be so don't waste your money. The only thing it is good for is giving to your worst enemy. I'm not lying about that. Someone who you would love to kill or torture would be a prime candidate for this film. It is that awful. If you don't believe me then you deserve to suffer through the misery of watching this, which I doubt you can finish. Two Thumbs Enthusiastically Down.</td>\n",
              "      <td>negative</td>\n",
              "      <td>803</td>\n",
              "    </tr>\n",
              "    <tr>\n",
              "      <th>14977</th>\n",
              "      <td>If the scale went negative I would be happier. Seeing Sushmita Sen was nice, and Nisha Kothari has a bright future but the producer and the director ruined any and all enjoyment in this story. The choice of angles, choice of lighting and well everything distracted from trying to remember what is the story. Oh, if the songs and dances haven't caused you to rip your ears off your head, first. The film could have been made twice at 1.25 hours, and been pretty good, kinda like \"Seven Samurai\" but the director and writer didn't go that direction, even if the \"townsfolk\" finally find their backbone and want to help. This movie fails on so many levels: editing, writing, photography angles, style, lighting, script - name any aspect of this film - it was BAD - probably the food from the caterer was bad too. I have never in 6 years of watching Indian (Bollywood) movies seen something this badly made.</td>\n",
              "      <td>negative</td>\n",
              "      <td>903</td>\n",
              "    </tr>\n",
              "    <tr>\n",
              "      <th>7363</th>\n",
              "      <td>Rachael Ray appeals to viewers of all ages and backgrounds, beginner cooks or \"seasoned\" veterans. You'll be dazzled with a variegated presentation of delectable yet time-efficient dishes, jazzed up with her unique brand of spunk and candor. Most importantly, this hip chic keeps her audience drawn in by stimulating all five senses. Let me explain. Her program provides enlightenment to your visual sense, auditory sense, and sense of feeling through a rich, luminous ambient backdrop, light-hearted, casual, yet engaging topics, eye-pleasing, appetite wrenching meals, and her hearty smile and laugh, which will simmer down anyone's nerves.(Sense of smell and taste are rewarded when you test out the recipes in your own kitchen and among your own family and friends). Check out her show guys.</td>\n",
              "      <td>positive</td>\n",
              "      <td>795</td>\n",
              "    </tr>\n",
              "    <tr>\n",
              "      <th>43930</th>\n",
              "      <td>Someone had a great idea: let's have Misty Mundae do her own, R-rated version of Lara Croft - firing two guns not only in skimpy outfits, but topless as well. It WAS indeed a great idea. The problem is that the people who had it couldn't come up with any sort of script or budget to support it. Therefore, we get a \"film\" that barely reaches medium length by replaying many of its parts (often in slow-motion), and was apparently shot entirely inside a garage. The appeal of Misty Mundae is still evident: she is unbelievably cute and has a natural girl-next-door beauty. However her two female co-stars here, with whom she shares a lengthy lesbian scene, are nowhere near her league. If \"Mummy Raider\" was presented as a Youtube video, I'd rate it higher, but as a \"film\" destined for DVD consumption it cannot get more than 1/2 a * out of 4.</td>\n",
              "      <td>negative</td>\n",
              "      <td>843</td>\n",
              "    </tr>\n",
              "    <tr>\n",
              "      <th>3262</th>\n",
              "      <td>This film is the worst excuse for a motion picture I have EVER seen. To begin, I'd like to say the the front cover of this film is by all means misleading, if you think you are about to see a truly scary horror film with a monster clown, you are soooo wrong. In fact the killers face doesn't even slightly resemble the front cover, it's just an image they must have found on Google and thought it looked cool. Speaking of things they found and thought it looked cool, there is a scene in this film where some of the gang are searching for the friend in the old woods, then suddenly the screen chops to a scene where there is a mother deer nurturing it's young in a glisten of sunlight... I mean seriously WTF??? How is this relevant to the dark woods they are wandering through? I bought this film from a man at a market hoping it would be entertaining, if it wasn't horror then at least it would be funny right? WRONG! The next day I GAVE it to my work colleague ridding myself from the plague named S.I.C.K&lt;br /&gt;&lt;br /&gt;Bottom line is: Don't SEE THIS FILM!!!</td>\n",
              "      <td>negative</td>\n",
              "      <td>1058</td>\n",
              "    </tr>\n",
              "  </tbody>\n",
              "</table>\n",
              "</div>\n",
              "    <div class=\"colab-df-buttons\">\n",
              "\n",
              "  <div class=\"colab-df-container\">\n",
              "    <button class=\"colab-df-convert\" onclick=\"convertToInteractive('df-ed1b7353-8381-425a-9a2f-3edf8aafb90e')\"\n",
              "            title=\"Convert this dataframe to an interactive table.\"\n",
              "            style=\"display:none;\">\n",
              "\n",
              "  <svg xmlns=\"http://www.w3.org/2000/svg\" height=\"24px\" viewBox=\"0 -960 960 960\">\n",
              "    <path d=\"M120-120v-720h720v720H120Zm60-500h600v-160H180v160Zm220 220h160v-160H400v160Zm0 220h160v-160H400v160ZM180-400h160v-160H180v160Zm440 0h160v-160H620v160ZM180-180h160v-160H180v160Zm440 0h160v-160H620v160Z\"/>\n",
              "  </svg>\n",
              "    </button>\n",
              "\n",
              "  <style>\n",
              "    .colab-df-container {\n",
              "      display:flex;\n",
              "      gap: 12px;\n",
              "    }\n",
              "\n",
              "    .colab-df-convert {\n",
              "      background-color: #E8F0FE;\n",
              "      border: none;\n",
              "      border-radius: 50%;\n",
              "      cursor: pointer;\n",
              "      display: none;\n",
              "      fill: #1967D2;\n",
              "      height: 32px;\n",
              "      padding: 0 0 0 0;\n",
              "      width: 32px;\n",
              "    }\n",
              "\n",
              "    .colab-df-convert:hover {\n",
              "      background-color: #E2EBFA;\n",
              "      box-shadow: 0px 1px 2px rgba(60, 64, 67, 0.3), 0px 1px 3px 1px rgba(60, 64, 67, 0.15);\n",
              "      fill: #174EA6;\n",
              "    }\n",
              "\n",
              "    .colab-df-buttons div {\n",
              "      margin-bottom: 4px;\n",
              "    }\n",
              "\n",
              "    [theme=dark] .colab-df-convert {\n",
              "      background-color: #3B4455;\n",
              "      fill: #D2E3FC;\n",
              "    }\n",
              "\n",
              "    [theme=dark] .colab-df-convert:hover {\n",
              "      background-color: #434B5C;\n",
              "      box-shadow: 0px 1px 3px 1px rgba(0, 0, 0, 0.15);\n",
              "      filter: drop-shadow(0px 1px 2px rgba(0, 0, 0, 0.3));\n",
              "      fill: #FFFFFF;\n",
              "    }\n",
              "  </style>\n",
              "\n",
              "    <script>\n",
              "      const buttonEl =\n",
              "        document.querySelector('#df-ed1b7353-8381-425a-9a2f-3edf8aafb90e button.colab-df-convert');\n",
              "      buttonEl.style.display =\n",
              "        google.colab.kernel.accessAllowed ? 'block' : 'none';\n",
              "\n",
              "      async function convertToInteractive(key) {\n",
              "        const element = document.querySelector('#df-ed1b7353-8381-425a-9a2f-3edf8aafb90e');\n",
              "        const dataTable =\n",
              "          await google.colab.kernel.invokeFunction('convertToInteractive',\n",
              "                                                    [key], {});\n",
              "        if (!dataTable) return;\n",
              "\n",
              "        const docLinkHtml = 'Like what you see? Visit the ' +\n",
              "          '<a target=\"_blank\" href=https://colab.research.google.com/notebooks/data_table.ipynb>data table notebook</a>'\n",
              "          + ' to learn more about interactive tables.';\n",
              "        element.innerHTML = '';\n",
              "        dataTable['output_type'] = 'display_data';\n",
              "        await google.colab.output.renderOutput(dataTable, element);\n",
              "        const docLink = document.createElement('div');\n",
              "        docLink.innerHTML = docLinkHtml;\n",
              "        element.appendChild(docLink);\n",
              "      }\n",
              "    </script>\n",
              "  </div>\n",
              "\n",
              "\n",
              "<div id=\"df-b11ec23f-69cd-405f-9b4a-3045584d8375\">\n",
              "  <button class=\"colab-df-quickchart\" onclick=\"quickchart('df-b11ec23f-69cd-405f-9b4a-3045584d8375')\"\n",
              "            title=\"Suggest charts\"\n",
              "            style=\"display:none;\">\n",
              "\n",
              "<svg xmlns=\"http://www.w3.org/2000/svg\" height=\"24px\"viewBox=\"0 0 24 24\"\n",
              "     width=\"24px\">\n",
              "    <g>\n",
              "        <path d=\"M19 3H5c-1.1 0-2 .9-2 2v14c0 1.1.9 2 2 2h14c1.1 0 2-.9 2-2V5c0-1.1-.9-2-2-2zM9 17H7v-7h2v7zm4 0h-2V7h2v10zm4 0h-2v-4h2v4z\"/>\n",
              "    </g>\n",
              "</svg>\n",
              "  </button>\n",
              "\n",
              "<style>\n",
              "  .colab-df-quickchart {\n",
              "      --bg-color: #E8F0FE;\n",
              "      --fill-color: #1967D2;\n",
              "      --hover-bg-color: #E2EBFA;\n",
              "      --hover-fill-color: #174EA6;\n",
              "      --disabled-fill-color: #AAA;\n",
              "      --disabled-bg-color: #DDD;\n",
              "  }\n",
              "\n",
              "  [theme=dark] .colab-df-quickchart {\n",
              "      --bg-color: #3B4455;\n",
              "      --fill-color: #D2E3FC;\n",
              "      --hover-bg-color: #434B5C;\n",
              "      --hover-fill-color: #FFFFFF;\n",
              "      --disabled-bg-color: #3B4455;\n",
              "      --disabled-fill-color: #666;\n",
              "  }\n",
              "\n",
              "  .colab-df-quickchart {\n",
              "    background-color: var(--bg-color);\n",
              "    border: none;\n",
              "    border-radius: 50%;\n",
              "    cursor: pointer;\n",
              "    display: none;\n",
              "    fill: var(--fill-color);\n",
              "    height: 32px;\n",
              "    padding: 0;\n",
              "    width: 32px;\n",
              "  }\n",
              "\n",
              "  .colab-df-quickchart:hover {\n",
              "    background-color: var(--hover-bg-color);\n",
              "    box-shadow: 0 1px 2px rgba(60, 64, 67, 0.3), 0 1px 3px 1px rgba(60, 64, 67, 0.15);\n",
              "    fill: var(--button-hover-fill-color);\n",
              "  }\n",
              "\n",
              "  .colab-df-quickchart-complete:disabled,\n",
              "  .colab-df-quickchart-complete:disabled:hover {\n",
              "    background-color: var(--disabled-bg-color);\n",
              "    fill: var(--disabled-fill-color);\n",
              "    box-shadow: none;\n",
              "  }\n",
              "\n",
              "  .colab-df-spinner {\n",
              "    border: 2px solid var(--fill-color);\n",
              "    border-color: transparent;\n",
              "    border-bottom-color: var(--fill-color);\n",
              "    animation:\n",
              "      spin 1s steps(1) infinite;\n",
              "  }\n",
              "\n",
              "  @keyframes spin {\n",
              "    0% {\n",
              "      border-color: transparent;\n",
              "      border-bottom-color: var(--fill-color);\n",
              "      border-left-color: var(--fill-color);\n",
              "    }\n",
              "    20% {\n",
              "      border-color: transparent;\n",
              "      border-left-color: var(--fill-color);\n",
              "      border-top-color: var(--fill-color);\n",
              "    }\n",
              "    30% {\n",
              "      border-color: transparent;\n",
              "      border-left-color: var(--fill-color);\n",
              "      border-top-color: var(--fill-color);\n",
              "      border-right-color: var(--fill-color);\n",
              "    }\n",
              "    40% {\n",
              "      border-color: transparent;\n",
              "      border-right-color: var(--fill-color);\n",
              "      border-top-color: var(--fill-color);\n",
              "    }\n",
              "    60% {\n",
              "      border-color: transparent;\n",
              "      border-right-color: var(--fill-color);\n",
              "    }\n",
              "    80% {\n",
              "      border-color: transparent;\n",
              "      border-right-color: var(--fill-color);\n",
              "      border-bottom-color: var(--fill-color);\n",
              "    }\n",
              "    90% {\n",
              "      border-color: transparent;\n",
              "      border-bottom-color: var(--fill-color);\n",
              "    }\n",
              "  }\n",
              "</style>\n",
              "\n",
              "  <script>\n",
              "    async function quickchart(key) {\n",
              "      const quickchartButtonEl =\n",
              "        document.querySelector('#' + key + ' button');\n",
              "      quickchartButtonEl.disabled = true;  // To prevent multiple clicks.\n",
              "      quickchartButtonEl.classList.add('colab-df-spinner');\n",
              "      try {\n",
              "        const charts = await google.colab.kernel.invokeFunction(\n",
              "            'suggestCharts', [key], {});\n",
              "      } catch (error) {\n",
              "        console.error('Error during call to suggestCharts:', error);\n",
              "      }\n",
              "      quickchartButtonEl.classList.remove('colab-df-spinner');\n",
              "      quickchartButtonEl.classList.add('colab-df-quickchart-complete');\n",
              "    }\n",
              "    (() => {\n",
              "      let quickchartButtonEl =\n",
              "        document.querySelector('#df-b11ec23f-69cd-405f-9b4a-3045584d8375 button');\n",
              "      quickchartButtonEl.style.display =\n",
              "        google.colab.kernel.accessAllowed ? 'block' : 'none';\n",
              "    })();\n",
              "  </script>\n",
              "</div>\n",
              "\n",
              "    </div>\n",
              "  </div>\n"
            ],
            "application/vnd.google.colaboratory.intrinsic+json": {
              "type": "dataframe",
              "variable_name": "final_sample",
              "summary": "{\n  \"name\": \"final_sample\",\n  \"rows\": 10000,\n  \"fields\": [\n    {\n      \"column\": \"review\",\n      \"properties\": {\n        \"dtype\": \"string\",\n        \"num_unique_values\": 9940,\n        \"samples\": [\n          \"when I know that Walter will never grace another set.I was in my 30's when I first saw this sweet,endearing and unabashedly romantic film.I loved it from the first scene,and all the way through to the end.Art Carney was his usual daft self; Glenda matched Walter step for step in the witticisms;and Richard Benjamin supplied the sarcastic voice of reason that he does so well.Along the way there were many actors whom we all recognize,doing their usual brilliance. There are a couple of lines in the movie which my SO and I have used throughout the years,but I won't say anything about them here.I'm pretty sure you will know which two I am talking about. Just get this movie.Make some popcorn,grab your squeeze(if he is as sappy as mine is,for which I am thankful),and enjoy this standout romantic comedy from the 70's. You will not be disappointed. However,I have the feeling that I am preaching to the choir here because anyone who loves Walter will already own it.I'm very glad it's out on DVD now,finally.\",\n          \"The movie is about two brothers that are supposed to be alike - but are not in any way expect for being smart - one is a surgeon and they other is able to write a computer code. Geniuses as they like to call themselves which sounds very exaggerated if you compare it to personal characteristics can you perceive from the material of the title.<br /><br />I honestly didn't like the style of the movie. I believe that anxiety, confusion and deep blues it brings are there for a purpose, but what I don't get is why there is so much of it. The movie is cheap on scenes and tells the story basically with no human aspect in it at all. It gives the comic book like experience. However it's visually numbing the viewer, it somehow brings him inside the blues with brief dialogs, monotonic scenes, dynamic cut, music and abrupt noises.<br /><br />The movie's storyline is very simple, most of what's going on is being dramatically pictured for long minutes, mostly in confusing delirium simulating effects of drug use and dynamic cuts.<br /><br />I will say openly that this movie didn't meet my expetations a tiny bit.\",\n          \"As anyone old enough knows, South Africa long suffered under the vile, racist oppression of apartheid, which completely subjugated the black population. One of the most famous anti-apartheid activists was Steve Biko, who was murdered in jail. Following the murder, reporter Donald Woods sought to get Biko's message out to the world.<br /><br />In \\\"Cry Freedom\\\", Woods (Kevin Kline) befriends Biko (Denzel Washington) before the latter is arrested on trumped up charges. When Woods attempts to spread Biko's word, he and his family begin living under threat of attack, and they are finally forced to flee the country. The last scene gut-wrenchingly shows police firing on protesters.<br /><br />As one of two movies (along with \\\"A World Apart\\\") that helped galvanize the anti-apartheid movement, \\\"Cry Freedom\\\" stands out as possibly the best ever work for all involved.\"\n        ],\n        \"semantic_type\": \"\",\n        \"description\": \"\"\n      }\n    },\n    {\n      \"column\": \"sentiment\",\n      \"properties\": {\n        \"dtype\": \"category\",\n        \"num_unique_values\": 2,\n        \"samples\": [\n          \"positive\",\n          \"negative\"\n        ],\n        \"semantic_type\": \"\",\n        \"description\": \"\"\n      }\n    },\n    {\n      \"column\": \"length\",\n      \"properties\": {\n        \"dtype\": \"number\",\n        \"std\": 114,\n        \"min\": 770,\n        \"max\": 1170,\n        \"num_unique_values\": 401,\n        \"samples\": [\n          911,\n          999\n        ],\n        \"semantic_type\": \"\",\n        \"description\": \"\"\n      }\n    }\n  ]\n}"
            }
          },
          "metadata": {},
          "execution_count": 25
        }
      ]
    },
    {
      "cell_type": "code",
      "source": [
        "# Save the DataFrame to a CSV file\n",
        "df.to_csv('filtered_reviews.csv', index=True)"
      ],
      "metadata": {
        "id": "uYJdUC_N5tqQ"
      },
      "execution_count": null,
      "outputs": []
    },
    {
      "cell_type": "code",
      "source": [
        "import re"
      ],
      "metadata": {
        "id": "dwtkF4pI6jmN"
      },
      "execution_count": null,
      "outputs": []
    },
    {
      "cell_type": "code",
      "source": [
        "def clean_text(text):\n",
        "    # Replace single or multiple <br /> tags with a single newline\n",
        "    # This regex will catch both <br /> and any number of them in sequence\n",
        "    cleaned = re.sub(r'(<br />)+', '\\n', text)\n",
        "\n",
        "    # Remove any extra whitespace that might have been created\n",
        "    cleaned = ' '.join(cleaned.split())\n",
        "\n",
        "    return cleaned\n",
        "\n",
        "# Apply to the dataset\n",
        "filtered_df['cleaned_review'] = filtered_df['review'].apply(clean_text)\n",
        "\n",
        "# Quick check\n",
        "print(\"Original:\")\n",
        "print(filtered_df['review'].iloc[0])\n",
        "print(\"\\nCleaned:\")\n",
        "print(filtered_df['cleaned_review'].iloc[0])"
      ],
      "metadata": {
        "colab": {
          "base_uri": "https://localhost:8080/"
        },
        "id": "k5T__rZF5iDK",
        "outputId": "3ef78e27-d4e6-4ff9-a96a-7c9a22e35e0d"
      },
      "execution_count": null,
      "outputs": [
        {
          "output_type": "stream",
          "name": "stdout",
          "text": [
            "Original:\n",
            "A wonderful little production. <br /><br />The filming technique is very unassuming- very old-time-BBC fashion and gives a comforting, and sometimes discomforting, sense of realism to the entire piece. <br /><br />The actors are extremely well chosen- Michael Sheen not only \"has got all the polari\" but he has all the voices down pat too! You can truly see the seamless editing guided by the references to Williams' diary entries, not only is it well worth the watching but it is a terrificly written and performed piece. A masterful production about one of the great master's of comedy and his life. <br /><br />The realism really comes home with the little things: the fantasy of the guard which, rather than use the traditional 'dream' techniques remains solid then disappears. It plays on our knowledge and our senses, particularly with the scenes concerning Orton and Halliwell and the sets (particularly of their flat with Halliwell's murals decorating every surface) are terribly well done.\n",
            "\n",
            "Cleaned:\n",
            "A wonderful little production. The filming technique is very unassuming- very old-time-BBC fashion and gives a comforting, and sometimes discomforting, sense of realism to the entire piece. The actors are extremely well chosen- Michael Sheen not only \"has got all the polari\" but he has all the voices down pat too! You can truly see the seamless editing guided by the references to Williams' diary entries, not only is it well worth the watching but it is a terrificly written and performed piece. A masterful production about one of the great master's of comedy and his life. The realism really comes home with the little things: the fantasy of the guard which, rather than use the traditional 'dream' techniques remains solid then disappears. It plays on our knowledge and our senses, particularly with the scenes concerning Orton and Halliwell and the sets (particularly of their flat with Halliwell's murals decorating every surface) are terribly well done.\n"
          ]
        }
      ]
    },
    {
      "cell_type": "code",
      "source": [
        "print(\"Original:\")\n",
        "print(filtered_df['review'].iloc[180])\n",
        "print(\"\\nCleaned:\")\n",
        "print(filtered_df['cleaned_review'].iloc[180])"
      ],
      "metadata": {
        "colab": {
          "base_uri": "https://localhost:8080/"
        },
        "id": "UGX8FXAe6imP",
        "outputId": "0d1554ce-8b0b-48f5-9819-3585ba450508"
      },
      "execution_count": null,
      "outputs": [
        {
          "output_type": "stream",
          "name": "stdout",
          "text": [
            "Original:\n",
            "I saw it at the Legacy Theater in the Joseph Smith Memorial Building in Salt Lake City this morning. I'm going to assume that one's level of enjoyment during this movie will largely be based on one's level of acceptance of Joseph's story.<br /><br />However, that aside it was very well made, well acted, and had a nice score. If you get to Salt Lake City, it is a must to see it in the Legacy Theater. I have never been in a nicer theater as far as picture quality, sound quality and ambiance in my entire life...I wonder if the Church would let me watch Batman Begins there! Being that I'm LDS and regard Joseph as a prophet, I was touched in several places and was brought to tears quite a few times...which I presume is expected since they handed out tissues BEFORE the movie started! Anyway, I'm told that this film is available in several LDS Visitor Centers around the globe, if you have 70 minutes check it out because whether you believe Joseph Smith or not, he tells a fascinating story.\n",
            "\n",
            "Cleaned:\n",
            "I saw it at the Legacy Theater in the Joseph Smith Memorial Building in Salt Lake City this morning. I'm going to assume that one's level of enjoyment during this movie will largely be based on one's level of acceptance of Joseph's story. However, that aside it was very well made, well acted, and had a nice score. If you get to Salt Lake City, it is a must to see it in the Legacy Theater. I have never been in a nicer theater as far as picture quality, sound quality and ambiance in my entire life...I wonder if the Church would let me watch Batman Begins there! Being that I'm LDS and regard Joseph as a prophet, I was touched in several places and was brought to tears quite a few times...which I presume is expected since they handed out tissues BEFORE the movie started! Anyway, I'm told that this film is available in several LDS Visitor Centers around the globe, if you have 70 minutes check it out because whether you believe Joseph Smith or not, he tells a fascinating story.\n"
          ]
        }
      ]
    },
    {
      "cell_type": "code",
      "source": [
        "filtered_df = filtered_df.sample(n=10000, random_state=42)"
      ],
      "metadata": {
        "id": "WrDztzzT6vD0"
      },
      "execution_count": null,
      "outputs": []
    },
    {
      "cell_type": "code",
      "source": [
        "# Save the DataFrame to a CSV file\n",
        "filtered_df.to_csv('filtered_reviews.csv', index=True)"
      ],
      "metadata": {
        "id": "33ptR0pn7IL9"
      },
      "execution_count": null,
      "outputs": []
    },
    {
      "cell_type": "code",
      "source": [
        "filtered_df = pd.read_csv(\"filtered_reviews.csv\")\n",
        "df = pd.read_csv(\"IMDB Dataset.csv\")"
      ],
      "metadata": {
        "id": "ug-yMNVFsITO"
      },
      "execution_count": null,
      "outputs": []
    },
    {
      "cell_type": "code",
      "source": [
        "\n",
        "\n"
      ],
      "metadata": {
        "colab": {
          "base_uri": "https://localhost:8080/"
        },
        "id": "zp3MlcDU7T5V",
        "outputId": "90a86f3d-8c6b-4704-886a-ddb8eaf6ee36"
      },
      "execution_count": null,
      "outputs": [
        {
          "output_type": "stream",
          "name": "stderr",
          "text": [
            "100%|██████████| 1001/1001 [26:59<00:00,  1.62s/it]\n"
          ]
        }
      ]
    },
    {
      "cell_type": "code",
      "source": [
        "filtered_df = pd.read_csv(\"filtered_reviews.csv\")\n",
        "df = pd.read_csv(\"IMDB Dataset.csv\")\n"
      ],
      "metadata": {
        "id": "2zG7KuKA0RBk"
      },
      "execution_count": null,
      "outputs": []
    },
    {
      "cell_type": "code",
      "source": [
        "!pip install anthropic"
      ],
      "metadata": {
        "colab": {
          "base_uri": "https://localhost:8080/"
        },
        "id": "QxUNFtkT040C",
        "outputId": "01c33425-ecc4-4540-e8c2-fcfcf7a4dd64"
      },
      "execution_count": null,
      "outputs": [
        {
          "output_type": "stream",
          "name": "stdout",
          "text": [
            "Collecting anthropic\n",
            "  Downloading anthropic-0.40.0-py3-none-any.whl.metadata (23 kB)\n",
            "Requirement already satisfied: anyio<5,>=3.5.0 in /usr/local/lib/python3.10/dist-packages (from anthropic) (3.7.1)\n",
            "Requirement already satisfied: distro<2,>=1.7.0 in /usr/local/lib/python3.10/dist-packages (from anthropic) (1.9.0)\n",
            "Requirement already satisfied: httpx<1,>=0.23.0 in /usr/local/lib/python3.10/dist-packages (from anthropic) (0.27.2)\n",
            "Requirement already satisfied: jiter<1,>=0.4.0 in /usr/local/lib/python3.10/dist-packages (from anthropic) (0.7.1)\n",
            "Requirement already satisfied: pydantic<3,>=1.9.0 in /usr/local/lib/python3.10/dist-packages (from anthropic) (2.9.2)\n",
            "Requirement already satisfied: sniffio in /usr/local/lib/python3.10/dist-packages (from anthropic) (1.3.1)\n",
            "Requirement already satisfied: typing-extensions<5,>=4.7 in /usr/local/lib/python3.10/dist-packages (from anthropic) (4.12.2)\n",
            "Requirement already satisfied: idna>=2.8 in /usr/local/lib/python3.10/dist-packages (from anyio<5,>=3.5.0->anthropic) (3.10)\n",
            "Requirement already satisfied: exceptiongroup in /usr/local/lib/python3.10/dist-packages (from anyio<5,>=3.5.0->anthropic) (1.2.2)\n",
            "Requirement already satisfied: certifi in /usr/local/lib/python3.10/dist-packages (from httpx<1,>=0.23.0->anthropic) (2024.8.30)\n",
            "Requirement already satisfied: httpcore==1.* in /usr/local/lib/python3.10/dist-packages (from httpx<1,>=0.23.0->anthropic) (1.0.7)\n",
            "Requirement already satisfied: h11<0.15,>=0.13 in /usr/local/lib/python3.10/dist-packages (from httpcore==1.*->httpx<1,>=0.23.0->anthropic) (0.14.0)\n",
            "Requirement already satisfied: annotated-types>=0.6.0 in /usr/local/lib/python3.10/dist-packages (from pydantic<3,>=1.9.0->anthropic) (0.7.0)\n",
            "Requirement already satisfied: pydantic-core==2.23.4 in /usr/local/lib/python3.10/dist-packages (from pydantic<3,>=1.9.0->anthropic) (2.23.4)\n",
            "Downloading anthropic-0.40.0-py3-none-any.whl (199 kB)\n",
            "\u001b[?25l   \u001b[90m━━━━━━━━━━━━━━━━━━━━━━━━━━━━━━━━━━━━━━━━\u001b[0m \u001b[32m0.0/199.5 kB\u001b[0m \u001b[31m?\u001b[0m eta \u001b[36m-:--:--\u001b[0m\r\u001b[2K   \u001b[90m━━━━━━━━━━━━━━━━━━━━━━━━━━━━━━━━━━━━━━━━\u001b[0m \u001b[32m199.5/199.5 kB\u001b[0m \u001b[31m11.2 MB/s\u001b[0m eta \u001b[36m0:00:00\u001b[0m\n",
            "\u001b[?25hInstalling collected packages: anthropic\n",
            "Successfully installed anthropic-0.40.0\n"
          ]
        }
      ]
    },
    {
      "cell_type": "code",
      "source": [
        "import anthropic\n",
        "client = anthropic.Anthropic(api_key=\"redacted for github\")"
      ],
      "metadata": {
        "id": "Fp6GjVHb0Wcm"
      },
      "execution_count": null,
      "outputs": []
    },
    {
      "cell_type": "code",
      "source": [
        "def process_reviews_claude(df, n_samples, model_name, instructions, start_idx=0):\n",
        "    \"\"\"\n",
        "    Process a batch of reviews through Claude API.\n",
        "\n",
        "    Args:\n",
        "        df: DataFrame containing reviews\n",
        "        n_samples: Number of reviews to process\n",
        "        model_name: Name of the Claude model to use\n",
        "        instructions: Instructions for Claude\n",
        "        start_idx: Starting index in the DataFrame\n",
        "    \"\"\"\n",
        "    results = []\n",
        "\n",
        "    for idx in tqdm(range(start_idx, start_idx + n_samples)):\n",
        "        try:\n",
        "            original = df['cleaned_review'].iloc[idx]\n",
        "\n",
        "            # Combine instructions and prompt for Claude\n",
        "            combined_prompt = f\"{instructions}\\n\\nText excerpt:\\n{original}\"\n",
        "\n",
        "            # Get Claude generation\n",
        "            completion = client.messages.create(\n",
        "                model=model_name,\n",
        "                max_tokens=1024,\n",
        "                messages=[\n",
        "                    {\"role\": \"user\", \"content\": combined_prompt}\n",
        "                ]\n",
        "            )\n",
        "\n",
        "            # Extract the text content from Claude's response\n",
        "            generated = completion.content[0].text  # Change is here\n",
        "\n",
        "            # Store result\n",
        "            result = {\n",
        "                'original_idx': df.index[idx],\n",
        "                'original_review': original,\n",
        "                f'generated_{model_name}': generated,\n",
        "                'original_length': len(original.split()),\n",
        "                'generated_length': len(generated.split()),\n",
        "                'timestamp': datetime.now().isoformat()\n",
        "            }\n",
        "\n",
        "            results.append(result)\n",
        "\n",
        "            # Save intermediate results every 1000 samples\n",
        "            if len(results) % 1000 == 0:\n",
        "                interim_df = pd.DataFrame(results)\n",
        "                interim_df.to_csv(f'interim_results_{model_name}_{start_idx}_to_{idx}.csv', index=False)\n",
        "\n",
        "            # Add a small delay to avoid rate limits\n",
        "            time.sleep(0.1)\n",
        "\n",
        "        except Exception as e:\n",
        "            print(f\"Error processing review {idx}: {str(e)}\")\n",
        "            continue\n",
        "\n",
        "    # Save final results\n",
        "    final_df = pd.DataFrame(results)\n",
        "    final_df.to_csv(f'final_results_{model_name}_{start_idx}_to_{start_idx+n_samples}.csv', index=False)\n",
        "\n",
        "    return final_df\n",
        "\n",
        "# Let's test with a smaller sample first\n",
        "instructions = '''Rewrite the following text excerpt in your own words. Your response should:\n",
        "1. Maintain similar length\n",
        "2. Cover the same main ideas\n",
        "3. Use similar tone/style\n",
        "4. Feel natural and coherent\n",
        "\n",
        "Important: Return ONLY the rewritten text with no additional commentary, introductions, or explanations.'''\n",
        "n_samples = 1001  # Start with 5 to test\n",
        "results_df = process_reviews_claude(filtered_df, n_samples, 'claude-3-5-sonnet-20241022', instructions)"
      ],
      "metadata": {
        "colab": {
          "base_uri": "https://localhost:8080/"
        },
        "id": "I1wGp1bN851z",
        "outputId": "6bf4654e-a196-442d-d536-bedd375dcb18"
      },
      "execution_count": null,
      "outputs": [
        {
          "output_type": "stream",
          "name": "stderr",
          "text": [
            "  3%|▎         | 28/1001 [02:04<1:05:28,  4.04s/it]"
          ]
        },
        {
          "output_type": "stream",
          "name": "stdout",
          "text": [
            "Error processing review 27: Error code: 529 - {'type': 'error', 'error': {'type': 'overloaded_error', 'message': 'Overloaded'}}\n"
          ]
        },
        {
          "output_type": "stream",
          "name": "stderr",
          "text": [
            " 22%|██▏       | 223/1001 [16:48<1:00:26,  4.66s/it]"
          ]
        },
        {
          "output_type": "stream",
          "name": "stdout",
          "text": [
            "Error processing review 222: Error code: 529 - {'type': 'error', 'error': {'type': 'overloaded_error', 'message': 'Overloaded'}}\n"
          ]
        },
        {
          "output_type": "stream",
          "name": "stderr",
          "text": [
            " 32%|███▏      | 321/1001 [24:33<54:54,  4.85s/it]"
          ]
        },
        {
          "output_type": "stream",
          "name": "stdout",
          "text": [
            "Error processing review 320: Error code: 529 - {'type': 'error', 'error': {'type': 'overloaded_error', 'message': 'Overloaded'}}\n"
          ]
        },
        {
          "output_type": "stream",
          "name": "stderr",
          "text": [
            " 37%|███▋      | 372/1001 [28:23<40:19,  3.85s/it]"
          ]
        },
        {
          "output_type": "stream",
          "name": "stdout",
          "text": [
            "Error processing review 371: Error code: 529 - {'type': 'error', 'error': {'type': 'overloaded_error', 'message': 'Overloaded'}}\n"
          ]
        },
        {
          "output_type": "stream",
          "name": "stderr",
          "text": [
            " 41%|████▏     | 415/1001 [31:43<44:59,  4.61s/it]"
          ]
        },
        {
          "output_type": "stream",
          "name": "stdout",
          "text": [
            "Error processing review 414: Error code: 529 - {'type': 'error', 'error': {'type': 'overloaded_error', 'message': 'Overloaded'}}\n"
          ]
        },
        {
          "output_type": "stream",
          "name": "stderr",
          "text": [
            " 45%|████▍     | 448/1001 [34:40<53:12,  5.77s/it]"
          ]
        },
        {
          "output_type": "stream",
          "name": "stdout",
          "text": [
            "Error processing review 447: Error code: 529 - {'type': 'error', 'error': {'type': 'overloaded_error', 'message': 'Overloaded'}}\n"
          ]
        },
        {
          "output_type": "stream",
          "name": "stderr",
          "text": [
            " 50%|████▉     | 499/1001 [38:43<40:21,  4.82s/it]"
          ]
        },
        {
          "output_type": "stream",
          "name": "stdout",
          "text": [
            "Error processing review 498: Error code: 529 - {'type': 'error', 'error': {'type': 'overloaded_error', 'message': 'Overloaded'}}\n"
          ]
        },
        {
          "output_type": "stream",
          "name": "stderr",
          "text": [
            " 51%|█████     | 512/1001 [39:46<35:45,  4.39s/it]"
          ]
        },
        {
          "output_type": "stream",
          "name": "stdout",
          "text": [
            "Error processing review 511: Error code: 529 - {'type': 'error', 'error': {'type': 'overloaded_error', 'message': 'Overloaded'}}\n"
          ]
        },
        {
          "output_type": "stream",
          "name": "stderr",
          "text": [
            " 55%|█████▌    | 551/1001 [42:55<30:23,  4.05s/it]"
          ]
        },
        {
          "output_type": "stream",
          "name": "stdout",
          "text": [
            "Error processing review 550: Error code: 529 - {'type': 'error', 'error': {'type': 'overloaded_error', 'message': 'Overloaded'}}\n"
          ]
        },
        {
          "output_type": "stream",
          "name": "stderr",
          "text": [
            " 58%|█████▊    | 581/1001 [45:21<38:20,  5.48s/it]"
          ]
        },
        {
          "output_type": "stream",
          "name": "stdout",
          "text": [
            "Error processing review 580: Error code: 529 - {'type': 'error', 'error': {'type': 'overloaded_error', 'message': 'Overloaded'}}\n"
          ]
        },
        {
          "output_type": "stream",
          "name": "stderr",
          "text": [
            " 59%|█████▉    | 591/1001 [46:13<30:05,  4.40s/it]"
          ]
        },
        {
          "output_type": "stream",
          "name": "stdout",
          "text": [
            "Error processing review 590: Error code: 529 - {'type': 'error', 'error': {'type': 'overloaded_error', 'message': 'Overloaded'}}\n"
          ]
        },
        {
          "output_type": "stream",
          "name": "stderr",
          "text": [
            " 63%|██████▎   | 630/1001 [49:23<30:01,  4.86s/it]"
          ]
        },
        {
          "output_type": "stream",
          "name": "stdout",
          "text": [
            "Error processing review 629: Error code: 529 - {'type': 'error', 'error': {'type': 'overloaded_error', 'message': 'Overloaded'}}\n"
          ]
        },
        {
          "output_type": "stream",
          "name": "stderr",
          "text": [
            " 64%|██████▍   | 641/1001 [50:22<29:54,  4.98s/it]"
          ]
        },
        {
          "output_type": "stream",
          "name": "stdout",
          "text": [
            "Error processing review 640: Error code: 529 - {'type': 'error', 'error': {'type': 'overloaded_error', 'message': 'Overloaded'}}\n"
          ]
        },
        {
          "output_type": "stream",
          "name": "stderr",
          "text": [
            " 65%|██████▌   | 655/1001 [51:41<27:49,  4.83s/it]"
          ]
        },
        {
          "output_type": "stream",
          "name": "stdout",
          "text": [
            "Error processing review 654: Error code: 529 - {'type': 'error', 'error': {'type': 'overloaded_error', 'message': 'Overloaded'}}\n"
          ]
        },
        {
          "output_type": "stream",
          "name": "stderr",
          "text": [
            " 67%|██████▋   | 673/1001 [53:03<24:40,  4.51s/it]"
          ]
        },
        {
          "output_type": "stream",
          "name": "stdout",
          "text": [
            "Error processing review 672: Error code: 529 - {'type': 'error', 'error': {'type': 'overloaded_error', 'message': 'Overloaded'}}\n"
          ]
        },
        {
          "output_type": "stream",
          "name": "stderr",
          "text": [
            " 68%|██████▊   | 685/1001 [54:00<22:14,  4.22s/it]"
          ]
        },
        {
          "output_type": "stream",
          "name": "stdout",
          "text": [
            "Error processing review 684: Error code: 529 - {'type': 'error', 'error': {'type': 'overloaded_error', 'message': 'Overloaded'}}\n"
          ]
        },
        {
          "output_type": "stream",
          "name": "stderr",
          "text": [
            " 77%|███████▋  | 769/1001 [1:00:45<18:08,  4.69s/it]"
          ]
        },
        {
          "output_type": "stream",
          "name": "stdout",
          "text": [
            "Error processing review 768: Error code: 529 - {'type': 'error', 'error': {'type': 'overloaded_error', 'message': 'Overloaded'}}\n"
          ]
        },
        {
          "output_type": "stream",
          "name": "stderr",
          "text": [
            " 78%|███████▊  | 779/1001 [1:01:30<17:17,  4.68s/it]"
          ]
        },
        {
          "output_type": "stream",
          "name": "stdout",
          "text": [
            "Error processing review 778: Error code: 529 - {'type': 'error', 'error': {'type': 'overloaded_error', 'message': 'Overloaded'}}\n"
          ]
        },
        {
          "output_type": "stream",
          "name": "stderr",
          "text": [
            "100%|██████████| 1001/1001 [1:17:56<00:00,  4.67s/it]\n"
          ]
        }
      ]
    },
    {
      "cell_type": "code",
      "source": [
        "results_df"
      ],
      "metadata": {
        "colab": {
          "base_uri": "https://localhost:8080/",
          "height": 1000
        },
        "id": "IEoPZBLL8-gB",
        "outputId": "2836864b-f0b4-4278-c33e-acd446a7c2a3"
      },
      "execution_count": null,
      "outputs": [
        {
          "output_type": "execute_result",
          "data": {
            "text/plain": [
              "     original_idx  \\\n",
              "0               0   \n",
              "1               1   \n",
              "2               2   \n",
              "3               3   \n",
              "4               4   \n",
              "..            ...   \n",
              "978           996   \n",
              "979           997   \n",
              "980           998   \n",
              "981           999   \n",
              "982          1000   \n",
              "\n",
              "                                                                                                                                                                                                                                                                                                                                                                                                                                                                                                                                                                                                                                                                                                                                                                                                                                                                                                                                                                                                                                                                             original_review  \\\n",
              "0                                                                                                                                                                                                                                                        Lately they have been trying to hock this film late-night on cable TV commercials. Don't believe the hype. I was one of the unlucky people to see this stinker in theatres. This is, in my opinion, the 3rd Worst Movie of All Time, just behind Mac & Me (#1 Worst), and Jack Frost (#2 Worst), but I must admit, they are all close and all TERRIBLE! Really, nothing of this movie is funny, or disturbing, or anything else it claims to be so don't waste your money. The only thing it is good for is giving to your worst enemy. I'm not lying about that. Someone who you would love to kill or torture would be a prime candidate for this film. It is that awful. If you don't believe me then you deserve to suffer through the misery of watching this, which I doubt you can finish. Two Thumbs Enthusiastically Down.   \n",
              "1                                                                                                                                                    If the scale went negative I would be happier. Seeing Sushmita Sen was nice, and Nisha Kothari has a bright future but the producer and the director ruined any and all enjoyment in this story. The choice of angles, choice of lighting and well everything distracted from trying to remember what is the story. Oh, if the songs and dances haven't caused you to rip your ears off your head, first. The film could have been made twice at 1.25 hours, and been pretty good, kinda like \"Seven Samurai\" but the director and writer didn't go that direction, even if the \"townsfolk\" finally find their backbone and want to help. This movie fails on so many levels: editing, writing, photography angles, style, lighting, script - name any aspect of this film - it was BAD - probably the food from the caterer was bad too. I have never in 6 years of watching Indian (Bollywood) movies seen something this badly made.   \n",
              "2                                                                                                                                                                                                                                                                Rachael Ray appeals to viewers of all ages and backgrounds, beginner cooks or \"seasoned\" veterans. You'll be dazzled with a variegated presentation of delectable yet time-efficient dishes, jazzed up with her unique brand of spunk and candor. Most importantly, this hip chic keeps her audience drawn in by stimulating all five senses. Let me explain. Her program provides enlightenment to your visual sense, auditory sense, and sense of feeling through a rich, luminous ambient backdrop, light-hearted, casual, yet engaging topics, eye-pleasing, appetite wrenching meals, and her hearty smile and laugh, which will simmer down anyone's nerves.(Sense of smell and taste are rewarded when you test out the recipes in your own kitchen and among your own family and friends). Check out her show guys.   \n",
              "3                                                                                                                                                                                                                Someone had a great idea: let's have Misty Mundae do her own, R-rated version of Lara Croft - firing two guns not only in skimpy outfits, but topless as well. It WAS indeed a great idea. The problem is that the people who had it couldn't come up with any sort of script or budget to support it. Therefore, we get a \"film\" that barely reaches medium length by replaying many of its parts (often in slow-motion), and was apparently shot entirely inside a garage. The appeal of Misty Mundae is still evident: she is unbelievably cute and has a natural girl-next-door beauty. However her two female co-stars here, with whom she shares a lengthy lesbian scene, are nowhere near her league. If \"Mummy Raider\" was presented as a Youtube video, I'd rate it higher, but as a \"film\" destined for DVD consumption it cannot get more than 1/2 a * out of 4.   \n",
              "4    This film is the worst excuse for a motion picture I have EVER seen. To begin, I'd like to say the the front cover of this film is by all means misleading, if you think you are about to see a truly scary horror film with a monster clown, you are soooo wrong. In fact the killers face doesn't even slightly resemble the front cover, it's just an image they must have found on Google and thought it looked cool. Speaking of things they found and thought it looked cool, there is a scene in this film where some of the gang are searching for the friend in the old woods, then suddenly the screen chops to a scene where there is a mother deer nurturing it's young in a glisten of sunlight... I mean seriously WTF??? How is this relevant to the dark woods they are wandering through? I bought this film from a man at a market hoping it would be entertaining, if it wasn't horror then at least it would be funny right? WRONG! The next day I GAVE it to my work colleague ridding myself from the plague named S.I.C.K Bottom line is: Don't SEE THIS FILM!!!   \n",
              "..                                                                                                                                                                                                                                                                                                                                                                                                                                                                                                                                                                                                                                                                                                                                                                                                                                                                                                                                                                                                                                                                                       ...   \n",
              "978                                                                                                                                                                                                                                                                It is characteristic that this film is not better known. It obviously lacks most elements that a successful theater film needs: heroes, villains, conflict and resolution, romantic love interest.. Everything is topsy-turvy here, nothing works out as it should, everyone is clumsy, sad, angry, hurt and hungry and nobody has a solution for anything. In short: it is war and it is hell for everybody involved. People try to do best, but interests, allegiances and so called duty interfere. The picture transports us back in time to the Civil War with an intensity seldom seen in today's cinema. Straightforward honest images of an intense beauty. The actors are very well cast for the story and they make the characters come truly alive in front of our eyes. A silver dollar in a heap of nickels!   \n",
              "979                                                                                                                                                                                                        Regarded as another one of the recent over-the-top drama's brought upon us by Hollywood, this movie excels where others have totally failed(especially considering the most underrated performance in recent dramatic character portrayal by that of Natalie Portman), this film is almost unanimously driven by the chemistry that both Susan and Natalie share. They seem to be so natural during the movie that you would mistake them for a real family. They go through so many mother-daughter conflicts in the story its kind of hard not to pick up on their acting abilities. I feel that these two actress' talented performances picked up where the story was lacking and almost too familiar (full of cliche's) and really saved the suffering plot. I would recommend this movie mainly to those who like either of the two actresses or such over-the-top drama's.   \n",
              "980           This was an interesting study in societal sexuality, as well as the \"dark interests\" of man. While I can't say the wife was a strong character - she was the wrong choice for the part, in my opinion - she was a rich kid in search of escaping her drool life. She was a rebel in fact, and never fully matured for her husband, a lawyer (Rickman). It's obvious he married her for her money and to cover his sexual desires, which is taboo. Rickman played his part to a tee, his flirtations with the young man, and very subtle undertones of gayness. The young man was gay to the hilt! When he did Marilyn impersonation that should have told the wife everything. He was perfectly cast as well. He has hustler written all over him. I was not crazy about the ending, as I knew what was coming. Overall though, the acting from Rickman was great, Reedus was good, Walker was okay but I had misgivings. For a gay themed movie, it was average, but not blatant at least. It's worth viewing if you don't have \"Truly Madly Deeply\" lying around for a spin.   \n",
              "981                                                                                                                                                                                                             This movie was really funny even though it wasn't meant to be! The acting was stupid and so were the voices. Pretty much all it was was some guy walking around a corn maze for an hour and a half. They threw in this stupid super natural thing that made it even dumber. It wasn't even like a normal movie, this weird creepy music was playing almost the whole way through the movie. What is it with corn maze horror films? Children of the corn was really scary I thought and I thought this would be something like it, but really it was just stupid. The main character guy just walked around aimlessly yelling for these two little girls. And then at the end he like kills someone or something. It's worth seeing if you're with your friends because it's really funny how bad it is, but if you're looking for a horror movie then don't waste your time   \n",
              "982                               This is one of the worst films I have *ever* seen! It is bad, even at TV Movie level standards. The plot is diabolically flawed, and the known names in this film are wasted on confused, uncertain characters. I don't know how the director managed to keep this excuse of a film together - it is that bad. Billed as a 'Psychological Horror Thriller' - it is certainly Horrific. There is nothing Thrilling about it. And it could do you Psychological damage! The initial opening scenes held such promise - a possible embarkation on whether the soul is just an aspect of the brain, but the utter shambles that followed the car-crash scene is beyond belief. No matter how hard you try, you couldn't care less about the characters. There are so many sprinkled ideas that the film is at best a collage of disconnected phrases from Chinese philosophers, and at worst the film would actually make you go Brain Dead! I have purchased over 300 films on DVD, and this is the FIRST one I'm going to get my money back on. STEER CLEAR.   \n",
              "\n",
              "                                                                                                                                                                                                                                                                                                                                                                                                                                                                                                                                                                                                                                                                                                                                                                                                                                                                                                                                                                                                                                                                                                                                                                                  generated_claude-3-5-sonnet-20241022  \\\n",
              "0                                                                                                                                                                                                                                                                                                                                                                They've started pushing this movie on late-night TV with those desperate infomercials, but don't fall for it. I had the misfortune of catching this disaster in an actual theatre, and it ranks as my number three worst film ever, right after Mac & Me and Jack Frost - though honestly, they're all neck-and-neck in their awfulness. The movie fails completely at everything it attempts - it's not funny, not scary, not shocking, nothing. Save your money. The only conceivable use for this film would be as a form of punishment for someone you truly despise. I mean that sincerely - if you have a mortal enemy, make them watch this. If you're skeptical of my warning and decide to watch it anyway, well, you'll deserve the torment that awaits. I'd be shocked if you even make it to the end. A resounding, emphatic thumbs down.   \n",
              "1                                                                                                                                                                                                          While it was nice to see Sushmita Sen, and newcomer Nisha Kothari shows promise, this film is so terrible it deserves a rating below zero. The production team completely destroyed any potential entertainment value. Everything from the camera work to the lighting choices serves as a constant distraction from the plot - that is, if you haven't already fled the theater due to the unbearable song and dance numbers. There could have been a decent movie here, perhaps following a \"Seven Samurai\" style narrative (especially given how the villagers eventually find their courage), but they missed that opportunity entirely. Instead, we got a 2.5-hour disaster that fails in literally every department: the editing is atrocious, the cinematography is amateur, the writing is poor, and the overall execution is dreadful. I wouldn't be surprised if even the catering was subpar. In my six years following Bollywood cinema, I've never encountered a film this incompetently made.   \n",
              "2                                                                                                                                                                                                                                                                                                                                                                                                                                                                                                    Whether you're just starting out in the kitchen or you're an experienced cook, Rachael Ray's show has something for everyone. She serves up an impressive array of quick but mouthwatering recipes, all delivered with her signature enthusiasm and refreshing honesty. What makes her show truly special is how it engages all your senses. The vibrant set design, relaxed yet captivating conversations, and tantalizing food presentations feast your eyes, while her infectious laugh and warm personality create a welcoming atmosphere that puts viewers at ease. (And when you try her recipes at home, your nose and taste buds get to join the party too). Give her show a watch - you won't regret it.   \n",
              "3                                                                                                                                                                                                                                                                                                       A clever concept emerged: cast Misty Mundae in an adult-oriented take on Tomb Raider, complete with dual-wielding gunplay in revealing attire and topless scenes. The premise showed real potential. Unfortunately, the execution fell flat due to nonexistent production values and a complete lack of actual screenplay. What we're left with is a production that struggles to reach feature length by recycling footage (often slowed down) and appears to have been filmed entirely within a single garage space. Mundae herself remains a bright spot, showcasing her undeniable charm and authentic girl-next-door appeal. However, her female scene partners in the extended sapphic sequence fail to match her screen presence. Had this been released as online content, it might deserve more lenient judgment, but as a commercially distributed DVD feature, it barely merits 1/2 out of 4 stars.   \n",
              "4                                                  This movie has got to be the absolute WORST piece of cinema I've ever had to sit through. First off, let me tell you about the completely deceptive DVD cover - if you're expecting some terrifying horror flick with a creepy killer clown, prepare to be totally disappointed. The actual murderer's appearance isn't even remotely close to what's shown on the cover; they clearly just grabbed some random scary image off the internet because they thought it looked menacing. And talk about random content - there's this completely out-of-nowhere scene where the characters are supposed to be searching through some dark, spooky forest for their missing friend, when suddenly they cut to this sickeningly sweet moment of a mother deer and her baby in some sun-drenched clearing... like, seriously, what were they thinking??? I picked this up from some vendor at a market, thinking even if it wasn't scary, it might at least be good for a laugh. Boy, was I wrong! I ended up pawning it off on a coworker the very next day just to get rid of this absolute trainwreck called S.I.C.K. Take my advice: AVOID THIS MOVIE AT ALL COSTS!!!   \n",
              "..                                                                                                                                                                                                                                                                                                                                                                                                                                                                                                                                                                                                                                                                                                                                                                                                                                                                                                                                                                                                                                                                                                                                                                                                                 ...   \n",
              "978                                                                                                                                                                                                           The film's relative obscurity makes perfect sense. It deliberately avoids the standard ingredients that typically make war movies commercially successful: there are no clear-cut good guys or bad guys, no neat story arcs, no uplifting love stories. Instead, we get a messy, realistic portrayal where characters stumble through their circumstances, dealing with frustration, pain, and deprivation - just as people really do in wartime. Everyone's trying to navigate their way through, but conflicting loyalties, obligations, and personal interests keep getting in the way. What makes this movie special is how vividly it recreates the Civil War era, with a raw authenticity that's rare in modern filmmaking. The cinematography is remarkable in its unadorned beauty, while the perfectly chosen cast brings a genuine humanity to their roles, making their characters feel utterly real and present. This film truly stands out as a rare gem among more conventional offerings.   \n",
              "979                                                                                                                                                                                                                                                                                                                                                                                                                           Another entry in Hollywood's collection of melodramatic offerings, this film manages to stand out where similar attempts have stumbled. The highlight is undoubtedly Natalie Portman's criminally underappreciated performance, but what truly elevates the film is the convincing dynamic between her and Susan. Their portrayal of a mother-daughter relationship feels remarkably authentic, making their numerous conflicts throughout the story particularly compelling. While the plot itself treads familiar territory and occasionally falls into predictable patterns, the exceptional performances by both actresses manage to overcome these shortcomings. If you're a fan of either performer or have a soft spot for emotional family dramas, this film is worth your time.   \n",
              "980  The film presents an intriguing exploration of sexuality and human desires in society. While the wife's character feels miscast - portraying a wealthy but immature rebel trying to escape her mundane existence - she never quite develops into a suitable match for her attorney husband (Rickman). It's clear his marriage to her serves dual purposes: accessing her wealth and masking his true sexual orientation, which wasn't socially acceptable. Rickman expertly portrays these layers, delivering subtle hints of homosexuality, particularly in his interactions with the young man. The latter character's sexuality is far more overt, especially evident in his Marilyn Monroe performance - a clear signal the wife somehow misses. He was perfectly selected for the role, embodying the hustler archetype completely. Though the predictable ending disappointed me, the performances varied in quality: Rickman was exceptional, Reedus delivered solid work, and Walker was adequate despite some shortcomings. As far as gay-themed films go, this one sits at medium quality, though I appreciate its understated approach. Worth watching if you can't find \"Truly Madly Deeply\" instead.   \n",
              "981                                                                                                                                                                                                                                                                             The film was hilariously bad, even though it wasn't supposed to be a comedy. The performances were terrible, including the way everyone delivered their lines. Basically, the entire plot consists of some dude wandering through a corn maze for 90 minutes. They randomly threw in some supernatural element that just made everything more ridiculous. It didn't even follow typical movie conventions - there was this strange, eerie soundtrack playing constantly throughout the film. What's the deal with horror movies set in corn mazes anyway? I expected something genuinely frightening like Children of the Corn, but this was just laughable. The protagonist just meandered around calling out for two girls the whole time. Then there's some confusing ending where he apparently murders someone. If you want to laugh at an awful movie with friends, go for it, but don't expect any actual scares from this one.   \n",
              "982                            I cannot believe how absolutely terrible this movie is - it doesn't even meet the low bar set by made-for-TV films. The storyline is riddled with holes, and it's painful to watch talented actors struggle with poorly developed, inconsistent characters. The director somehow cobbled together this mess, but that's no achievement. While it claims to be a \"Psychological Horror Thriller,\" the only horrifying thing is how bad it is. Nothing thrilling here, unless you count the psychological trauma of sitting through it! The beginning showed potential, teasing interesting questions about consciousness and the human mind, but everything after the car accident scene descends into complete chaos. You'll find it impossible to connect with any of the characters, no matter how hard you try. The film throws around random philosophical concepts like confetti, resulting in a jumbled mess of pseudo-intellectual Chinese quotes that makes absolutely no sense. This garbage might actually kill brain cells! Out of hundreds of DVDs I've bought, this is the first one I'm demanding a refund for. Do yourself a favor and avoid this disaster at all costs.   \n",
              "\n",
              "     original_length  generated_length                   timestamp  \n",
              "0                152               145  2024-12-01T06:18:29.313679  \n",
              "1                161               154  2024-12-01T06:18:33.479204  \n",
              "2                124               113  2024-12-01T06:18:36.667157  \n",
              "3                154               135  2024-12-01T06:18:40.188500  \n",
              "4                201               194  2024-12-01T06:18:45.487834  \n",
              "..               ...               ...                         ...  \n",
              "978              135               147  2024-12-01T07:36:04.024593  \n",
              "979              139               106  2024-12-01T07:36:06.976427  \n",
              "980              195               174  2024-12-01T07:36:11.926939  \n",
              "981              159               145  2024-12-01T07:36:15.739646  \n",
              "982              185               181  2024-12-01T07:36:20.099286  \n",
              "\n",
              "[983 rows x 6 columns]"
            ],
            "text/html": [
              "\n",
              "  <div id=\"df-c6005ee6-867d-4c8f-a3bf-5875c76fd007\" class=\"colab-df-container\">\n",
              "    <div>\n",
              "<style scoped>\n",
              "    .dataframe tbody tr th:only-of-type {\n",
              "        vertical-align: middle;\n",
              "    }\n",
              "\n",
              "    .dataframe tbody tr th {\n",
              "        vertical-align: top;\n",
              "    }\n",
              "\n",
              "    .dataframe thead th {\n",
              "        text-align: right;\n",
              "    }\n",
              "</style>\n",
              "<table border=\"1\" class=\"dataframe\">\n",
              "  <thead>\n",
              "    <tr style=\"text-align: right;\">\n",
              "      <th></th>\n",
              "      <th>original_idx</th>\n",
              "      <th>original_review</th>\n",
              "      <th>generated_claude-3-5-sonnet-20241022</th>\n",
              "      <th>original_length</th>\n",
              "      <th>generated_length</th>\n",
              "      <th>timestamp</th>\n",
              "    </tr>\n",
              "  </thead>\n",
              "  <tbody>\n",
              "    <tr>\n",
              "      <th>0</th>\n",
              "      <td>0</td>\n",
              "      <td>Lately they have been trying to hock this film late-night on cable TV commercials. Don't believe the hype. I was one of the unlucky people to see this stinker in theatres. This is, in my opinion, the 3rd Worst Movie of All Time, just behind Mac &amp; Me (#1 Worst), and Jack Frost (#2 Worst), but I must admit, they are all close and all TERRIBLE! Really, nothing of this movie is funny, or disturbing, or anything else it claims to be so don't waste your money. The only thing it is good for is giving to your worst enemy. I'm not lying about that. Someone who you would love to kill or torture would be a prime candidate for this film. It is that awful. If you don't believe me then you deserve to suffer through the misery of watching this, which I doubt you can finish. Two Thumbs Enthusiastically Down.</td>\n",
              "      <td>They've started pushing this movie on late-night TV with those desperate infomercials, but don't fall for it. I had the misfortune of catching this disaster in an actual theatre, and it ranks as my number three worst film ever, right after Mac &amp; Me and Jack Frost - though honestly, they're all neck-and-neck in their awfulness. The movie fails completely at everything it attempts - it's not funny, not scary, not shocking, nothing. Save your money. The only conceivable use for this film would be as a form of punishment for someone you truly despise. I mean that sincerely - if you have a mortal enemy, make them watch this. If you're skeptical of my warning and decide to watch it anyway, well, you'll deserve the torment that awaits. I'd be shocked if you even make it to the end. A resounding, emphatic thumbs down.</td>\n",
              "      <td>152</td>\n",
              "      <td>145</td>\n",
              "      <td>2024-12-01T06:18:29.313679</td>\n",
              "    </tr>\n",
              "    <tr>\n",
              "      <th>1</th>\n",
              "      <td>1</td>\n",
              "      <td>If the scale went negative I would be happier. Seeing Sushmita Sen was nice, and Nisha Kothari has a bright future but the producer and the director ruined any and all enjoyment in this story. The choice of angles, choice of lighting and well everything distracted from trying to remember what is the story. Oh, if the songs and dances haven't caused you to rip your ears off your head, first. The film could have been made twice at 1.25 hours, and been pretty good, kinda like \"Seven Samurai\" but the director and writer didn't go that direction, even if the \"townsfolk\" finally find their backbone and want to help. This movie fails on so many levels: editing, writing, photography angles, style, lighting, script - name any aspect of this film - it was BAD - probably the food from the caterer was bad too. I have never in 6 years of watching Indian (Bollywood) movies seen something this badly made.</td>\n",
              "      <td>While it was nice to see Sushmita Sen, and newcomer Nisha Kothari shows promise, this film is so terrible it deserves a rating below zero. The production team completely destroyed any potential entertainment value. Everything from the camera work to the lighting choices serves as a constant distraction from the plot - that is, if you haven't already fled the theater due to the unbearable song and dance numbers. There could have been a decent movie here, perhaps following a \"Seven Samurai\" style narrative (especially given how the villagers eventually find their courage), but they missed that opportunity entirely. Instead, we got a 2.5-hour disaster that fails in literally every department: the editing is atrocious, the cinematography is amateur, the writing is poor, and the overall execution is dreadful. I wouldn't be surprised if even the catering was subpar. In my six years following Bollywood cinema, I've never encountered a film this incompetently made.</td>\n",
              "      <td>161</td>\n",
              "      <td>154</td>\n",
              "      <td>2024-12-01T06:18:33.479204</td>\n",
              "    </tr>\n",
              "    <tr>\n",
              "      <th>2</th>\n",
              "      <td>2</td>\n",
              "      <td>Rachael Ray appeals to viewers of all ages and backgrounds, beginner cooks or \"seasoned\" veterans. You'll be dazzled with a variegated presentation of delectable yet time-efficient dishes, jazzed up with her unique brand of spunk and candor. Most importantly, this hip chic keeps her audience drawn in by stimulating all five senses. Let me explain. Her program provides enlightenment to your visual sense, auditory sense, and sense of feeling through a rich, luminous ambient backdrop, light-hearted, casual, yet engaging topics, eye-pleasing, appetite wrenching meals, and her hearty smile and laugh, which will simmer down anyone's nerves.(Sense of smell and taste are rewarded when you test out the recipes in your own kitchen and among your own family and friends). Check out her show guys.</td>\n",
              "      <td>Whether you're just starting out in the kitchen or you're an experienced cook, Rachael Ray's show has something for everyone. She serves up an impressive array of quick but mouthwatering recipes, all delivered with her signature enthusiasm and refreshing honesty. What makes her show truly special is how it engages all your senses. The vibrant set design, relaxed yet captivating conversations, and tantalizing food presentations feast your eyes, while her infectious laugh and warm personality create a welcoming atmosphere that puts viewers at ease. (And when you try her recipes at home, your nose and taste buds get to join the party too). Give her show a watch - you won't regret it.</td>\n",
              "      <td>124</td>\n",
              "      <td>113</td>\n",
              "      <td>2024-12-01T06:18:36.667157</td>\n",
              "    </tr>\n",
              "    <tr>\n",
              "      <th>3</th>\n",
              "      <td>3</td>\n",
              "      <td>Someone had a great idea: let's have Misty Mundae do her own, R-rated version of Lara Croft - firing two guns not only in skimpy outfits, but topless as well. It WAS indeed a great idea. The problem is that the people who had it couldn't come up with any sort of script or budget to support it. Therefore, we get a \"film\" that barely reaches medium length by replaying many of its parts (often in slow-motion), and was apparently shot entirely inside a garage. The appeal of Misty Mundae is still evident: she is unbelievably cute and has a natural girl-next-door beauty. However her two female co-stars here, with whom she shares a lengthy lesbian scene, are nowhere near her league. If \"Mummy Raider\" was presented as a Youtube video, I'd rate it higher, but as a \"film\" destined for DVD consumption it cannot get more than 1/2 a * out of 4.</td>\n",
              "      <td>A clever concept emerged: cast Misty Mundae in an adult-oriented take on Tomb Raider, complete with dual-wielding gunplay in revealing attire and topless scenes. The premise showed real potential. Unfortunately, the execution fell flat due to nonexistent production values and a complete lack of actual screenplay. What we're left with is a production that struggles to reach feature length by recycling footage (often slowed down) and appears to have been filmed entirely within a single garage space. Mundae herself remains a bright spot, showcasing her undeniable charm and authentic girl-next-door appeal. However, her female scene partners in the extended sapphic sequence fail to match her screen presence. Had this been released as online content, it might deserve more lenient judgment, but as a commercially distributed DVD feature, it barely merits 1/2 out of 4 stars.</td>\n",
              "      <td>154</td>\n",
              "      <td>135</td>\n",
              "      <td>2024-12-01T06:18:40.188500</td>\n",
              "    </tr>\n",
              "    <tr>\n",
              "      <th>4</th>\n",
              "      <td>4</td>\n",
              "      <td>This film is the worst excuse for a motion picture I have EVER seen. To begin, I'd like to say the the front cover of this film is by all means misleading, if you think you are about to see a truly scary horror film with a monster clown, you are soooo wrong. In fact the killers face doesn't even slightly resemble the front cover, it's just an image they must have found on Google and thought it looked cool. Speaking of things they found and thought it looked cool, there is a scene in this film where some of the gang are searching for the friend in the old woods, then suddenly the screen chops to a scene where there is a mother deer nurturing it's young in a glisten of sunlight... I mean seriously WTF??? How is this relevant to the dark woods they are wandering through? I bought this film from a man at a market hoping it would be entertaining, if it wasn't horror then at least it would be funny right? WRONG! The next day I GAVE it to my work colleague ridding myself from the plague named S.I.C.K Bottom line is: Don't SEE THIS FILM!!!</td>\n",
              "      <td>This movie has got to be the absolute WORST piece of cinema I've ever had to sit through. First off, let me tell you about the completely deceptive DVD cover - if you're expecting some terrifying horror flick with a creepy killer clown, prepare to be totally disappointed. The actual murderer's appearance isn't even remotely close to what's shown on the cover; they clearly just grabbed some random scary image off the internet because they thought it looked menacing. And talk about random content - there's this completely out-of-nowhere scene where the characters are supposed to be searching through some dark, spooky forest for their missing friend, when suddenly they cut to this sickeningly sweet moment of a mother deer and her baby in some sun-drenched clearing... like, seriously, what were they thinking??? I picked this up from some vendor at a market, thinking even if it wasn't scary, it might at least be good for a laugh. Boy, was I wrong! I ended up pawning it off on a coworker the very next day just to get rid of this absolute trainwreck called S.I.C.K. Take my advice: AVOID THIS MOVIE AT ALL COSTS!!!</td>\n",
              "      <td>201</td>\n",
              "      <td>194</td>\n",
              "      <td>2024-12-01T06:18:45.487834</td>\n",
              "    </tr>\n",
              "    <tr>\n",
              "      <th>...</th>\n",
              "      <td>...</td>\n",
              "      <td>...</td>\n",
              "      <td>...</td>\n",
              "      <td>...</td>\n",
              "      <td>...</td>\n",
              "      <td>...</td>\n",
              "    </tr>\n",
              "    <tr>\n",
              "      <th>978</th>\n",
              "      <td>996</td>\n",
              "      <td>It is characteristic that this film is not better known. It obviously lacks most elements that a successful theater film needs: heroes, villains, conflict and resolution, romantic love interest.. Everything is topsy-turvy here, nothing works out as it should, everyone is clumsy, sad, angry, hurt and hungry and nobody has a solution for anything. In short: it is war and it is hell for everybody involved. People try to do best, but interests, allegiances and so called duty interfere. The picture transports us back in time to the Civil War with an intensity seldom seen in today's cinema. Straightforward honest images of an intense beauty. The actors are very well cast for the story and they make the characters come truly alive in front of our eyes. A silver dollar in a heap of nickels!</td>\n",
              "      <td>The film's relative obscurity makes perfect sense. It deliberately avoids the standard ingredients that typically make war movies commercially successful: there are no clear-cut good guys or bad guys, no neat story arcs, no uplifting love stories. Instead, we get a messy, realistic portrayal where characters stumble through their circumstances, dealing with frustration, pain, and deprivation - just as people really do in wartime. Everyone's trying to navigate their way through, but conflicting loyalties, obligations, and personal interests keep getting in the way. What makes this movie special is how vividly it recreates the Civil War era, with a raw authenticity that's rare in modern filmmaking. The cinematography is remarkable in its unadorned beauty, while the perfectly chosen cast brings a genuine humanity to their roles, making their characters feel utterly real and present. This film truly stands out as a rare gem among more conventional offerings.</td>\n",
              "      <td>135</td>\n",
              "      <td>147</td>\n",
              "      <td>2024-12-01T07:36:04.024593</td>\n",
              "    </tr>\n",
              "    <tr>\n",
              "      <th>979</th>\n",
              "      <td>997</td>\n",
              "      <td>Regarded as another one of the recent over-the-top drama's brought upon us by Hollywood, this movie excels where others have totally failed(especially considering the most underrated performance in recent dramatic character portrayal by that of Natalie Portman), this film is almost unanimously driven by the chemistry that both Susan and Natalie share. They seem to be so natural during the movie that you would mistake them for a real family. They go through so many mother-daughter conflicts in the story its kind of hard not to pick up on their acting abilities. I feel that these two actress' talented performances picked up where the story was lacking and almost too familiar (full of cliche's) and really saved the suffering plot. I would recommend this movie mainly to those who like either of the two actresses or such over-the-top drama's.</td>\n",
              "      <td>Another entry in Hollywood's collection of melodramatic offerings, this film manages to stand out where similar attempts have stumbled. The highlight is undoubtedly Natalie Portman's criminally underappreciated performance, but what truly elevates the film is the convincing dynamic between her and Susan. Their portrayal of a mother-daughter relationship feels remarkably authentic, making their numerous conflicts throughout the story particularly compelling. While the plot itself treads familiar territory and occasionally falls into predictable patterns, the exceptional performances by both actresses manage to overcome these shortcomings. If you're a fan of either performer or have a soft spot for emotional family dramas, this film is worth your time.</td>\n",
              "      <td>139</td>\n",
              "      <td>106</td>\n",
              "      <td>2024-12-01T07:36:06.976427</td>\n",
              "    </tr>\n",
              "    <tr>\n",
              "      <th>980</th>\n",
              "      <td>998</td>\n",
              "      <td>This was an interesting study in societal sexuality, as well as the \"dark interests\" of man. While I can't say the wife was a strong character - she was the wrong choice for the part, in my opinion - she was a rich kid in search of escaping her drool life. She was a rebel in fact, and never fully matured for her husband, a lawyer (Rickman). It's obvious he married her for her money and to cover his sexual desires, which is taboo. Rickman played his part to a tee, his flirtations with the young man, and very subtle undertones of gayness. The young man was gay to the hilt! When he did Marilyn impersonation that should have told the wife everything. He was perfectly cast as well. He has hustler written all over him. I was not crazy about the ending, as I knew what was coming. Overall though, the acting from Rickman was great, Reedus was good, Walker was okay but I had misgivings. For a gay themed movie, it was average, but not blatant at least. It's worth viewing if you don't have \"Truly Madly Deeply\" lying around for a spin.</td>\n",
              "      <td>The film presents an intriguing exploration of sexuality and human desires in society. While the wife's character feels miscast - portraying a wealthy but immature rebel trying to escape her mundane existence - she never quite develops into a suitable match for her attorney husband (Rickman). It's clear his marriage to her serves dual purposes: accessing her wealth and masking his true sexual orientation, which wasn't socially acceptable. Rickman expertly portrays these layers, delivering subtle hints of homosexuality, particularly in his interactions with the young man. The latter character's sexuality is far more overt, especially evident in his Marilyn Monroe performance - a clear signal the wife somehow misses. He was perfectly selected for the role, embodying the hustler archetype completely. Though the predictable ending disappointed me, the performances varied in quality: Rickman was exceptional, Reedus delivered solid work, and Walker was adequate despite some shortcomings. As far as gay-themed films go, this one sits at medium quality, though I appreciate its understated approach. Worth watching if you can't find \"Truly Madly Deeply\" instead.</td>\n",
              "      <td>195</td>\n",
              "      <td>174</td>\n",
              "      <td>2024-12-01T07:36:11.926939</td>\n",
              "    </tr>\n",
              "    <tr>\n",
              "      <th>981</th>\n",
              "      <td>999</td>\n",
              "      <td>This movie was really funny even though it wasn't meant to be! The acting was stupid and so were the voices. Pretty much all it was was some guy walking around a corn maze for an hour and a half. They threw in this stupid super natural thing that made it even dumber. It wasn't even like a normal movie, this weird creepy music was playing almost the whole way through the movie. What is it with corn maze horror films? Children of the corn was really scary I thought and I thought this would be something like it, but really it was just stupid. The main character guy just walked around aimlessly yelling for these two little girls. And then at the end he like kills someone or something. It's worth seeing if you're with your friends because it's really funny how bad it is, but if you're looking for a horror movie then don't waste your time</td>\n",
              "      <td>The film was hilariously bad, even though it wasn't supposed to be a comedy. The performances were terrible, including the way everyone delivered their lines. Basically, the entire plot consists of some dude wandering through a corn maze for 90 minutes. They randomly threw in some supernatural element that just made everything more ridiculous. It didn't even follow typical movie conventions - there was this strange, eerie soundtrack playing constantly throughout the film. What's the deal with horror movies set in corn mazes anyway? I expected something genuinely frightening like Children of the Corn, but this was just laughable. The protagonist just meandered around calling out for two girls the whole time. Then there's some confusing ending where he apparently murders someone. If you want to laugh at an awful movie with friends, go for it, but don't expect any actual scares from this one.</td>\n",
              "      <td>159</td>\n",
              "      <td>145</td>\n",
              "      <td>2024-12-01T07:36:15.739646</td>\n",
              "    </tr>\n",
              "    <tr>\n",
              "      <th>982</th>\n",
              "      <td>1000</td>\n",
              "      <td>This is one of the worst films I have *ever* seen! It is bad, even at TV Movie level standards. The plot is diabolically flawed, and the known names in this film are wasted on confused, uncertain characters. I don't know how the director managed to keep this excuse of a film together - it is that bad. Billed as a 'Psychological Horror Thriller' - it is certainly Horrific. There is nothing Thrilling about it. And it could do you Psychological damage! The initial opening scenes held such promise - a possible embarkation on whether the soul is just an aspect of the brain, but the utter shambles that followed the car-crash scene is beyond belief. No matter how hard you try, you couldn't care less about the characters. There are so many sprinkled ideas that the film is at best a collage of disconnected phrases from Chinese philosophers, and at worst the film would actually make you go Brain Dead! I have purchased over 300 films on DVD, and this is the FIRST one I'm going to get my money back on. STEER CLEAR.</td>\n",
              "      <td>I cannot believe how absolutely terrible this movie is - it doesn't even meet the low bar set by made-for-TV films. The storyline is riddled with holes, and it's painful to watch talented actors struggle with poorly developed, inconsistent characters. The director somehow cobbled together this mess, but that's no achievement. While it claims to be a \"Psychological Horror Thriller,\" the only horrifying thing is how bad it is. Nothing thrilling here, unless you count the psychological trauma of sitting through it! The beginning showed potential, teasing interesting questions about consciousness and the human mind, but everything after the car accident scene descends into complete chaos. You'll find it impossible to connect with any of the characters, no matter how hard you try. The film throws around random philosophical concepts like confetti, resulting in a jumbled mess of pseudo-intellectual Chinese quotes that makes absolutely no sense. This garbage might actually kill brain cells! Out of hundreds of DVDs I've bought, this is the first one I'm demanding a refund for. Do yourself a favor and avoid this disaster at all costs.</td>\n",
              "      <td>185</td>\n",
              "      <td>181</td>\n",
              "      <td>2024-12-01T07:36:20.099286</td>\n",
              "    </tr>\n",
              "  </tbody>\n",
              "</table>\n",
              "<p>983 rows × 6 columns</p>\n",
              "</div>\n",
              "    <div class=\"colab-df-buttons\">\n",
              "\n",
              "  <div class=\"colab-df-container\">\n",
              "    <button class=\"colab-df-convert\" onclick=\"convertToInteractive('df-c6005ee6-867d-4c8f-a3bf-5875c76fd007')\"\n",
              "            title=\"Convert this dataframe to an interactive table.\"\n",
              "            style=\"display:none;\">\n",
              "\n",
              "  <svg xmlns=\"http://www.w3.org/2000/svg\" height=\"24px\" viewBox=\"0 -960 960 960\">\n",
              "    <path d=\"M120-120v-720h720v720H120Zm60-500h600v-160H180v160Zm220 220h160v-160H400v160Zm0 220h160v-160H400v160ZM180-400h160v-160H180v160Zm440 0h160v-160H620v160ZM180-180h160v-160H180v160Zm440 0h160v-160H620v160Z\"/>\n",
              "  </svg>\n",
              "    </button>\n",
              "\n",
              "  <style>\n",
              "    .colab-df-container {\n",
              "      display:flex;\n",
              "      gap: 12px;\n",
              "    }\n",
              "\n",
              "    .colab-df-convert {\n",
              "      background-color: #E8F0FE;\n",
              "      border: none;\n",
              "      border-radius: 50%;\n",
              "      cursor: pointer;\n",
              "      display: none;\n",
              "      fill: #1967D2;\n",
              "      height: 32px;\n",
              "      padding: 0 0 0 0;\n",
              "      width: 32px;\n",
              "    }\n",
              "\n",
              "    .colab-df-convert:hover {\n",
              "      background-color: #E2EBFA;\n",
              "      box-shadow: 0px 1px 2px rgba(60, 64, 67, 0.3), 0px 1px 3px 1px rgba(60, 64, 67, 0.15);\n",
              "      fill: #174EA6;\n",
              "    }\n",
              "\n",
              "    .colab-df-buttons div {\n",
              "      margin-bottom: 4px;\n",
              "    }\n",
              "\n",
              "    [theme=dark] .colab-df-convert {\n",
              "      background-color: #3B4455;\n",
              "      fill: #D2E3FC;\n",
              "    }\n",
              "\n",
              "    [theme=dark] .colab-df-convert:hover {\n",
              "      background-color: #434B5C;\n",
              "      box-shadow: 0px 1px 3px 1px rgba(0, 0, 0, 0.15);\n",
              "      filter: drop-shadow(0px 1px 2px rgba(0, 0, 0, 0.3));\n",
              "      fill: #FFFFFF;\n",
              "    }\n",
              "  </style>\n",
              "\n",
              "    <script>\n",
              "      const buttonEl =\n",
              "        document.querySelector('#df-c6005ee6-867d-4c8f-a3bf-5875c76fd007 button.colab-df-convert');\n",
              "      buttonEl.style.display =\n",
              "        google.colab.kernel.accessAllowed ? 'block' : 'none';\n",
              "\n",
              "      async function convertToInteractive(key) {\n",
              "        const element = document.querySelector('#df-c6005ee6-867d-4c8f-a3bf-5875c76fd007');\n",
              "        const dataTable =\n",
              "          await google.colab.kernel.invokeFunction('convertToInteractive',\n",
              "                                                    [key], {});\n",
              "        if (!dataTable) return;\n",
              "\n",
              "        const docLinkHtml = 'Like what you see? Visit the ' +\n",
              "          '<a target=\"_blank\" href=https://colab.research.google.com/notebooks/data_table.ipynb>data table notebook</a>'\n",
              "          + ' to learn more about interactive tables.';\n",
              "        element.innerHTML = '';\n",
              "        dataTable['output_type'] = 'display_data';\n",
              "        await google.colab.output.renderOutput(dataTable, element);\n",
              "        const docLink = document.createElement('div');\n",
              "        docLink.innerHTML = docLinkHtml;\n",
              "        element.appendChild(docLink);\n",
              "      }\n",
              "    </script>\n",
              "  </div>\n",
              "\n",
              "\n",
              "<div id=\"df-1007b67d-265d-4646-b395-905101b59918\">\n",
              "  <button class=\"colab-df-quickchart\" onclick=\"quickchart('df-1007b67d-265d-4646-b395-905101b59918')\"\n",
              "            title=\"Suggest charts\"\n",
              "            style=\"display:none;\">\n",
              "\n",
              "<svg xmlns=\"http://www.w3.org/2000/svg\" height=\"24px\"viewBox=\"0 0 24 24\"\n",
              "     width=\"24px\">\n",
              "    <g>\n",
              "        <path d=\"M19 3H5c-1.1 0-2 .9-2 2v14c0 1.1.9 2 2 2h14c1.1 0 2-.9 2-2V5c0-1.1-.9-2-2-2zM9 17H7v-7h2v7zm4 0h-2V7h2v10zm4 0h-2v-4h2v4z\"/>\n",
              "    </g>\n",
              "</svg>\n",
              "  </button>\n",
              "\n",
              "<style>\n",
              "  .colab-df-quickchart {\n",
              "      --bg-color: #E8F0FE;\n",
              "      --fill-color: #1967D2;\n",
              "      --hover-bg-color: #E2EBFA;\n",
              "      --hover-fill-color: #174EA6;\n",
              "      --disabled-fill-color: #AAA;\n",
              "      --disabled-bg-color: #DDD;\n",
              "  }\n",
              "\n",
              "  [theme=dark] .colab-df-quickchart {\n",
              "      --bg-color: #3B4455;\n",
              "      --fill-color: #D2E3FC;\n",
              "      --hover-bg-color: #434B5C;\n",
              "      --hover-fill-color: #FFFFFF;\n",
              "      --disabled-bg-color: #3B4455;\n",
              "      --disabled-fill-color: #666;\n",
              "  }\n",
              "\n",
              "  .colab-df-quickchart {\n",
              "    background-color: var(--bg-color);\n",
              "    border: none;\n",
              "    border-radius: 50%;\n",
              "    cursor: pointer;\n",
              "    display: none;\n",
              "    fill: var(--fill-color);\n",
              "    height: 32px;\n",
              "    padding: 0;\n",
              "    width: 32px;\n",
              "  }\n",
              "\n",
              "  .colab-df-quickchart:hover {\n",
              "    background-color: var(--hover-bg-color);\n",
              "    box-shadow: 0 1px 2px rgba(60, 64, 67, 0.3), 0 1px 3px 1px rgba(60, 64, 67, 0.15);\n",
              "    fill: var(--button-hover-fill-color);\n",
              "  }\n",
              "\n",
              "  .colab-df-quickchart-complete:disabled,\n",
              "  .colab-df-quickchart-complete:disabled:hover {\n",
              "    background-color: var(--disabled-bg-color);\n",
              "    fill: var(--disabled-fill-color);\n",
              "    box-shadow: none;\n",
              "  }\n",
              "\n",
              "  .colab-df-spinner {\n",
              "    border: 2px solid var(--fill-color);\n",
              "    border-color: transparent;\n",
              "    border-bottom-color: var(--fill-color);\n",
              "    animation:\n",
              "      spin 1s steps(1) infinite;\n",
              "  }\n",
              "\n",
              "  @keyframes spin {\n",
              "    0% {\n",
              "      border-color: transparent;\n",
              "      border-bottom-color: var(--fill-color);\n",
              "      border-left-color: var(--fill-color);\n",
              "    }\n",
              "    20% {\n",
              "      border-color: transparent;\n",
              "      border-left-color: var(--fill-color);\n",
              "      border-top-color: var(--fill-color);\n",
              "    }\n",
              "    30% {\n",
              "      border-color: transparent;\n",
              "      border-left-color: var(--fill-color);\n",
              "      border-top-color: var(--fill-color);\n",
              "      border-right-color: var(--fill-color);\n",
              "    }\n",
              "    40% {\n",
              "      border-color: transparent;\n",
              "      border-right-color: var(--fill-color);\n",
              "      border-top-color: var(--fill-color);\n",
              "    }\n",
              "    60% {\n",
              "      border-color: transparent;\n",
              "      border-right-color: var(--fill-color);\n",
              "    }\n",
              "    80% {\n",
              "      border-color: transparent;\n",
              "      border-right-color: var(--fill-color);\n",
              "      border-bottom-color: var(--fill-color);\n",
              "    }\n",
              "    90% {\n",
              "      border-color: transparent;\n",
              "      border-bottom-color: var(--fill-color);\n",
              "    }\n",
              "  }\n",
              "</style>\n",
              "\n",
              "  <script>\n",
              "    async function quickchart(key) {\n",
              "      const quickchartButtonEl =\n",
              "        document.querySelector('#' + key + ' button');\n",
              "      quickchartButtonEl.disabled = true;  // To prevent multiple clicks.\n",
              "      quickchartButtonEl.classList.add('colab-df-spinner');\n",
              "      try {\n",
              "        const charts = await google.colab.kernel.invokeFunction(\n",
              "            'suggestCharts', [key], {});\n",
              "      } catch (error) {\n",
              "        console.error('Error during call to suggestCharts:', error);\n",
              "      }\n",
              "      quickchartButtonEl.classList.remove('colab-df-spinner');\n",
              "      quickchartButtonEl.classList.add('colab-df-quickchart-complete');\n",
              "    }\n",
              "    (() => {\n",
              "      let quickchartButtonEl =\n",
              "        document.querySelector('#df-1007b67d-265d-4646-b395-905101b59918 button');\n",
              "      quickchartButtonEl.style.display =\n",
              "        google.colab.kernel.accessAllowed ? 'block' : 'none';\n",
              "    })();\n",
              "  </script>\n",
              "</div>\n",
              "\n",
              "  <div id=\"id_f9f806dd-f7cf-4b16-9a30-8de8520b6a6d\">\n",
              "    <style>\n",
              "      .colab-df-generate {\n",
              "        background-color: #E8F0FE;\n",
              "        border: none;\n",
              "        border-radius: 50%;\n",
              "        cursor: pointer;\n",
              "        display: none;\n",
              "        fill: #1967D2;\n",
              "        height: 32px;\n",
              "        padding: 0 0 0 0;\n",
              "        width: 32px;\n",
              "      }\n",
              "\n",
              "      .colab-df-generate:hover {\n",
              "        background-color: #E2EBFA;\n",
              "        box-shadow: 0px 1px 2px rgba(60, 64, 67, 0.3), 0px 1px 3px 1px rgba(60, 64, 67, 0.15);\n",
              "        fill: #174EA6;\n",
              "      }\n",
              "\n",
              "      [theme=dark] .colab-df-generate {\n",
              "        background-color: #3B4455;\n",
              "        fill: #D2E3FC;\n",
              "      }\n",
              "\n",
              "      [theme=dark] .colab-df-generate:hover {\n",
              "        background-color: #434B5C;\n",
              "        box-shadow: 0px 1px 3px 1px rgba(0, 0, 0, 0.15);\n",
              "        filter: drop-shadow(0px 1px 2px rgba(0, 0, 0, 0.3));\n",
              "        fill: #FFFFFF;\n",
              "      }\n",
              "    </style>\n",
              "    <button class=\"colab-df-generate\" onclick=\"generateWithVariable('results_df')\"\n",
              "            title=\"Generate code using this dataframe.\"\n",
              "            style=\"display:none;\">\n",
              "\n",
              "  <svg xmlns=\"http://www.w3.org/2000/svg\" height=\"24px\"viewBox=\"0 0 24 24\"\n",
              "       width=\"24px\">\n",
              "    <path d=\"M7,19H8.4L18.45,9,17,7.55,7,17.6ZM5,21V16.75L18.45,3.32a2,2,0,0,1,2.83,0l1.4,1.43a1.91,1.91,0,0,1,.58,1.4,1.91,1.91,0,0,1-.58,1.4L9.25,21ZM18.45,9,17,7.55Zm-12,3A5.31,5.31,0,0,0,4.9,8.1,5.31,5.31,0,0,0,1,6.5,5.31,5.31,0,0,0,4.9,4.9,5.31,5.31,0,0,0,6.5,1,5.31,5.31,0,0,0,8.1,4.9,5.31,5.31,0,0,0,12,6.5,5.46,5.46,0,0,0,6.5,12Z\"/>\n",
              "  </svg>\n",
              "    </button>\n",
              "    <script>\n",
              "      (() => {\n",
              "      const buttonEl =\n",
              "        document.querySelector('#id_f9f806dd-f7cf-4b16-9a30-8de8520b6a6d button.colab-df-generate');\n",
              "      buttonEl.style.display =\n",
              "        google.colab.kernel.accessAllowed ? 'block' : 'none';\n",
              "\n",
              "      buttonEl.onclick = () => {\n",
              "        google.colab.notebook.generateWithVariable('results_df');\n",
              "      }\n",
              "      })();\n",
              "    </script>\n",
              "  </div>\n",
              "\n",
              "    </div>\n",
              "  </div>\n"
            ],
            "application/vnd.google.colaboratory.intrinsic+json": {
              "type": "dataframe",
              "variable_name": "results_df",
              "summary": "{\n  \"name\": \"results_df\",\n  \"rows\": 983,\n  \"fields\": [\n    {\n      \"column\": \"original_idx\",\n      \"properties\": {\n        \"dtype\": \"number\",\n        \"std\": 290,\n        \"min\": 0,\n        \"max\": 1000,\n        \"num_unique_values\": 983,\n        \"samples\": [\n          828,\n          819,\n          831\n        ],\n        \"semantic_type\": \"\",\n        \"description\": \"\"\n      }\n    },\n    {\n      \"column\": \"original_review\",\n      \"properties\": {\n        \"dtype\": \"string\",\n        \"num_unique_values\": 982,\n        \"samples\": [\n          \"In Los Angeles, the alcoholic and lazy Hank Chinaski (Matt Dillon) performs a wide range of non-qualified functions just to get enough money to drink and gamble in horse races. His primary and only objective is writing and having sexy with dirty women. \\\"Factotum\\\" is an uninteresting, pointless and extremely boring movie about an irresponsible drunken vagrant that works a couple of days or weeks just to get enough money to buy spirits and gamble, being immediately fired due to his reckless behavior. In accordance with IMDb, this character would be the fictional alter-ego of the author Charles Bukowski, and based on this story, I will certainly never read any of his novels. Honestly, if the viewer likes this theme of alcoholic couples, better off watching the touching and heartbreaking Hector Babenco's \\\"Ironweed\\\" or Marco Ferreri's \\\"Storie di Ordinaria Follia\\\" that is based on the life of the same writer. My vote is four. Title (Brazil): \\\"Factotum \\u0096 Sem Destino\\\" (\\\"Factotum \\u0096 Without Destiny\\\")\",\n          \"I simply cannot understand how any Who fan, or just plain anyone could find this awful, lazy, poorly written abomination even remotely funny. It is so embarrassingly below par that it qualifies as a genuine tragedy. The potential for this was huge, it could have been great. What a shame that all that acting talent, the sets, the props, the goodwill of everyone involved was so pathetically wasted by a script that should have been burned. There is an obvious lack of any rigorous production and quality control here. Like those hammy Hollywood movies (mad mad mad world, casino royale) where the stars are just mugging for each other and 'having a great time' which basically means picking up a cheque for doing nothing. I could have written a better Who send-up in my sleep. In fact I have, while awake though. I did it in Year 10 in high school and performed it with a bunch of classmates. It was better, I look at it now and the gags are funnier. Steven Moffat YOU ARE A NO TALENT BUM! What a waste, what a wasted opportunity. Makes me want to cry....\",\n          \"OK. Who ever invented this film hates humanity and wants to see them all slit their throats. This \\\"film\\\" was absolute and utter filth. What the heck was up with the weird old bags eyes? Seriously, was she on some sort of horrible drug and then she like just thought she could control people? She was running around with her freaking evil eye and it was like what? Do I have a booger hanging out of my nose? What are you staring at? Are you like the sea witch or something? All and all though I thought the graphics were top notch old chap. For that alone I would give it a ten. But just cover your ears when you are watching it. The pure and complete evil that comes from that film will make your ears bleed and your eyelids fall off. Who knows? You might even get a knot in your small intestine. You better watch out fools.\"\n        ],\n        \"semantic_type\": \"\",\n        \"description\": \"\"\n      }\n    },\n    {\n      \"column\": \"generated_claude-3-5-sonnet-20241022\",\n      \"properties\": {\n        \"dtype\": \"string\",\n        \"num_unique_values\": 983,\n        \"samples\": [\n          \"This updated take on \\\"Assault on Precinct 13\\\" falls short of the original in nearly every way. The 1976 version succeeded with its lean runtime and sharp dialogue, while this bloated remake drowns in unnecessary exposition. Trading the original's Black protagonist for Ethan Hawke feels like a step backward, making the newer film somehow less forward-thinking than its 70s counterpart. John Carpenter's quirky direction and offbeat humor are sorely missed, as is his cast of B-movie stalwarts who, despite their lesser fame, delivered far more compelling performances than today's supposedly superior stars. The new antagonists strain believability beyond reason, the women are reduced to window dressing, and the criminal characters feel pulled from central casting. Gabriel Byrne sleepwalks through his role, and the generic action score actively undermines any tension the film manages to build. A complete misfire.\",\n          \"I watched this as a kid but couldn't remember what it was called, and when I finally tracked it down, I was surprised by how silly the title seemed. It's basically a hybrid of a disaster movie and a killer bug film, without any major celebrities in the cast. The whole thing has that made-for-TV feel to it, complete with those obvious commercial break fade-outs. The story centers on a resort that gets overrun by ants, which I believe were disturbed by some nearby construction work, though I'm not entirely sure about that detail. The most striking scenes for me were when that kid gets attacked by ants and falls into the pool, and of course the scene where Summers gets swarmed. Another memorable but ridiculous moment is the finale where people survive by breathing through cardboard tubes. Overall, like most TV movies from that era, it's pretty mild and won't frighten anyone except those who are already terrified of ants.\",\n          \"A fascinating blend of The Princess Bride and Trainspotting - and believe it or not, it really works! Haven't enjoyed a film this much in ages. It captures that clever, quick-witted dialogue style you'd find in Princess Bride or Cemetery Man, while delivering the brutal violence you'd expect from horror films. Like Trainspotting, it's got this fascinating moral ambiguity where there's no clear-cut heroes, yet it maintains that epic adventure feel of Princess Bride. Though it might not quite reach Princess Bride's heights, it's playing in the same league and absolutely delivers. Some of the dialogue is pure gold - beyond just good, it's genuinely brilliant. The story keeps you hooked, and while the characters might seem a bit modern for the 18th century setting, it's mainly just in their speech patterns (and yes, historically speaking, flamboyantly gay people absolutely existed back then, despite what some might claim). These modern touches actually enhance the fun without making it feel cheap or dismissible. If you're familiar with Simon R. Green's work or Glenn Cook's Garrett series, you'll know exactly what to expect. Definitely worth checking out - it's a real gem.\"\n        ],\n        \"semantic_type\": \"\",\n        \"description\": \"\"\n      }\n    },\n    {\n      \"column\": \"original_length\",\n      \"properties\": {\n        \"dtype\": \"number\",\n        \"std\": 21,\n        \"min\": 113,\n        \"max\": 226,\n        \"num_unique_values\": 103,\n        \"samples\": [\n          174,\n          134,\n          190\n        ],\n        \"semantic_type\": \"\",\n        \"description\": \"\"\n      }\n    },\n    {\n      \"column\": \"generated_length\",\n      \"properties\": {\n        \"dtype\": \"number\",\n        \"std\": 19,\n        \"min\": 95,\n        \"max\": 219,\n        \"num_unique_values\": 100,\n        \"samples\": [\n          117,\n          120,\n          176\n        ],\n        \"semantic_type\": \"\",\n        \"description\": \"\"\n      }\n    },\n    {\n      \"column\": \"timestamp\",\n      \"properties\": {\n        \"dtype\": \"object\",\n        \"num_unique_values\": 983,\n        \"samples\": [\n          \"2024-12-01T07:23:37.860043\",\n          \"2024-12-01T07:22:59.563968\",\n          \"2024-12-01T07:23:49.760668\"\n        ],\n        \"semantic_type\": \"\",\n        \"description\": \"\"\n      }\n    }\n  ]\n}"
            }
          },
          "metadata": {},
          "execution_count": 20
        }
      ]
    },
    {
      "cell_type": "code",
      "source": [
        "def process_missing_reviews_claude(df, failed_indices, model_name, instructions):\n",
        "    \"\"\"\n",
        "    Process only the missing reviews from failed attempts.\n",
        "\n",
        "    Args:\n",
        "        df: DataFrame containing reviews\n",
        "        failed_indices: List of indices that failed in the first run\n",
        "        model_name: Name of the Claude model to use\n",
        "        instructions: Instructions for Claude\n",
        "    \"\"\"\n",
        "    results = []\n",
        "\n",
        "    for idx in tqdm(failed_indices):\n",
        "        try:\n",
        "            original = df['cleaned_review'].iloc[idx]\n",
        "\n",
        "            # Combine instructions and prompt for Claude\n",
        "            combined_prompt = f\"{instructions}\\n\\nText excerpt:\\n{original}\"\n",
        "\n",
        "            # Get Claude generation\n",
        "            completion = client.messages.create(\n",
        "                model=model_name,\n",
        "                max_tokens=1024,\n",
        "                messages=[\n",
        "                    {\"role\": \"user\", \"content\": combined_prompt}\n",
        "                ]\n",
        "            )\n",
        "\n",
        "            # Extract the text content from Claude's response\n",
        "            generated = completion.content[0].text\n",
        "\n",
        "            # Store result\n",
        "            result = {\n",
        "                'original_idx': df.index[idx],\n",
        "                'original_review': original,\n",
        "                f'generated_{model_name}': generated,\n",
        "                'original_length': len(original.split()),\n",
        "                'generated_length': len(generated.split()),\n",
        "                'timestamp': datetime.now().isoformat()\n",
        "            }\n",
        "\n",
        "            results.append(result)\n",
        "\n",
        "            # Longer delay to avoid overload\n",
        "            time.sleep(1.0)  # Increased delay\n",
        "\n",
        "        except Exception as e:\n",
        "            print(f\"Error processing review {idx}: {str(e)}\")\n",
        "            continue\n",
        "\n",
        "    return pd.DataFrame(results)\n",
        "\n",
        "# List of failed indices\n",
        "failed_indices = [27, 222, 320, 371, 414, 447, 498, 511, 550, 580, 590,\n",
        "                 629, 640, 654, 672, 684, 768, 778]\n",
        "\n",
        "# Process just these indices\n",
        "missing_results_df = process_missing_reviews_claude(\n",
        "    filtered_df,\n",
        "    failed_indices,\n",
        "    'claude-3-5-sonnet-20241022',\n",
        "    instructions\n",
        ")\n",
        "\n",
        "# Save these results separately\n",
        "missing_results_df.to_csv('claude_missing_reviews.csv', index=False)"
      ],
      "metadata": {
        "colab": {
          "base_uri": "https://localhost:8080/"
        },
        "id": "UplGJnVr1W9l",
        "outputId": "8d4cc691-527b-48e4-b6ee-da1b4057100f"
      },
      "execution_count": null,
      "outputs": [
        {
          "output_type": "stream",
          "name": "stderr",
          "text": [
            "100%|██████████| 18/18 [01:43<00:00,  5.74s/it]\n"
          ]
        }
      ]
    },
    {
      "cell_type": "code",
      "source": [
        "# Load the main results and missing results\n",
        "main_results = pd.read_csv('final_results_claude-3-5-sonnet-20241022_0_to_1001.csv')\n",
        "missing_results = pd.read_csv('claude_missing_reviews.csv')\n",
        "\n",
        "# Merge on original_idx\n",
        "merged_df = pd.concat([main_results, missing_results]).sort_values('original_idx')\n",
        "\n",
        "# Remove any duplicates if they exist, keeping the latest version\n",
        "merged_df = merged_df.drop_duplicates(subset='original_idx', keep='last')\n",
        "\n",
        "# Sort by original_idx to maintain order\n",
        "merged_df = merged_df.sort_values('original_idx').reset_index(drop=True)\n",
        "\n",
        "# Verify we have all 1001 rows\n",
        "print(f\"Total rows after merge: {len(merged_df)}\")\n",
        "\n",
        "# Save the complete dataset\n",
        "merged_df.to_csv('claude_complete_results.csv', index=False)"
      ],
      "metadata": {
        "colab": {
          "base_uri": "https://localhost:8080/"
        },
        "id": "myqa9diBMGqL",
        "outputId": "c86a1f8d-ac84-44df-caa4-dc5163357960"
      },
      "execution_count": null,
      "outputs": [
        {
          "output_type": "stream",
          "name": "stdout",
          "text": [
            "Total rows after merge: 1001\n"
          ]
        }
      ]
    }
  ]
}